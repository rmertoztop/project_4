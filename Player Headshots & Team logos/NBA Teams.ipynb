{
 "cells": [
  {
   "cell_type": "code",
   "execution_count": 1,
   "id": "310a46aa",
   "metadata": {},
   "outputs": [],
   "source": [
    "import requests\n",
    "from bs4 import BeautifulSoup\n",
    "import csv\n",
    "\n",
    "# URL of loodibee website to get the logos for each NBA team\n",
    "url = \"https://loodibee.com/nba/\"\n",
    "\n",
    "# Send a GET request to the website\n",
    "response = requests.get(url)\n",
    "\n",
    "# Create a BeautifulSoup object to parse the HTML content\n",
    "soup = BeautifulSoup(response.content, 'html.parser')\n",
    "\n",
    "# Find the HTML elements that contain team names and logos by class name\n",
    "team_elements = soup.find_all(class_=\"wp-caption alignnone\")\n",
    "\n",
    "# Creating and adding the header into the dataframe\n",
    "df = [[\"Team name\",\"URL\"]]\n",
    "\n",
    "# Running through the elements and extract team names and logo URLs using the for loop\n",
    "for element in team_elements:\n",
    "    # Extract the team name\n",
    "    team_name = element.find(\"img\")[\"alt\"]\n",
    "    new_team = team_name.replace(\" Transparent Logo\", \"\")\n",
    "\n",
    "    # Extract the logo URL\n",
    "    logo_url = \"https://loodibee.com\" + element.find(\"img\")[\"src\"]\n",
    "\n",
    "#     # Print the team name and logo URL\n",
    "#     print(\"Team Name:\", new_team)\n",
    "#     print(\"Logo URL:\", logo_url)\n",
    "#     print(\"---\")\n",
    "    \n",
    "    rowvalue = [new_team,logo_url]\n",
    "    df.append(rowvalue)"
   ]
  },
  {
   "cell_type": "code",
   "execution_count": 2,
   "id": "aa8922c0",
   "metadata": {},
   "outputs": [],
   "source": [
    "# Open the CSV file in write mode\n",
    "filename = \"team_logos.csv\"\n",
    "with open(filename, 'w', newline='') as csvfile:\n",
    "    # Create a CSV writer object\n",
    "    csvwriter = csv.writer(csvfile)\n",
    "\n",
    "    # Write the data to the CSV file\n",
    "    for row in df:\n",
    "        csvwriter.writerow(row)"
   ]
  }
 ],
 "metadata": {
  "kernelspec": {
   "display_name": "Python 3 (ipykernel)",
   "language": "python",
   "name": "python3"
  },
  "language_info": {
   "codemirror_mode": {
    "name": "ipython",
    "version": 3
   },
   "file_extension": ".py",
   "mimetype": "text/x-python",
   "name": "python",
   "nbconvert_exporter": "python",
   "pygments_lexer": "ipython3",
   "version": "3.9.13"
  }
 },
 "nbformat": 4,
 "nbformat_minor": 5
}
