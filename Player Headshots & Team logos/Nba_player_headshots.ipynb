{
 "cells": [
  {
   "cell_type": "code",
   "execution_count": 1,
   "id": "0173b259",
   "metadata": {
    "scrolled": false
   },
   "outputs": [
    {
     "name": "stdout",
     "output_type": "stream",
     "text": [
      "<class 'bs4.BeautifulSoup'>\n"
     ]
    }
   ],
   "source": [
    "import requests,re\n",
    "from bs4 import BeautifulSoup\n",
    "import csv\n",
    "\n",
    "# URL of the NBA site to download headshots of the players\n",
    "url = \"https://www.nba.com/players/\"\n",
    "\n",
    "# URL request\n",
    "req = requests.get(url)\n",
    "\n",
    "# Scrapping the data from the URL\n",
    "soup = BeautifulSoup(req.text, \"html.parser\")\n",
    "print(type(soup))\n",
    "data = str(soup.find_all())\n",
    "\n",
    "# Fetching Person Id, Last name, First name\n",
    "player_data = re.findall(r'\"PERSON_ID\":(\\d+),\"PLAYER_LAST_NAME\":\"(\\w+)\",\"PLAYER_FIRST_NAME\":\"(\\w+)\"', data)\n",
    "\n",
    "# Creating and adding the header into a data frame \n",
    "df = [[\"Player ID\",\"Player\",\"Player_URL\"]]\n",
    "\n",
    "# Running the loop to get the headshot for all the players\n",
    "for data in player_data:\n",
    "    player_id = data[0]\n",
    "    player = data[2] + \" \" + data[1]\n",
    "    link = \"https://cdn.nba.com/headshots/nba/latest/1040x760/{0}.png\".format(player_id)\n",
    "    \n",
    "# Appending the data for each player into data frame.\n",
    "    rowvalue = [player_id,player,link]\n",
    "    df.append(rowvalue)"
   ]
  },
  {
   "cell_type": "code",
   "execution_count": 2,
   "id": "6ea3ae01",
   "metadata": {},
   "outputs": [],
   "source": [
    "# Open the CSV file in write mode\n",
    "filename = \"headshot.csv\"\n",
    "with open(filename, 'w', newline='') as csvfile:\n",
    "    # Create a CSV writer object\n",
    "    csvwriter = csv.writer(csvfile)\n",
    "\n",
    "    # Write the data to the CSV file\n",
    "    for row in df:\n",
    "        csvwriter.writerow(row)"
   ]
  },
  {
   "cell_type": "code",
   "execution_count": null,
   "id": "b1e3df65",
   "metadata": {},
   "outputs": [],
   "source": []
  }
 ],
 "metadata": {
  "kernelspec": {
   "display_name": "PythonData",
   "language": "python",
   "name": "pythondata"
  },
  "language_info": {
   "codemirror_mode": {
    "name": "ipython",
    "version": 3
   },
   "file_extension": ".py",
   "mimetype": "text/x-python",
   "name": "python",
   "nbconvert_exporter": "python",
   "pygments_lexer": "ipython3",
   "version": "3.9.13"
  }
 },
 "nbformat": 4,
 "nbformat_minor": 5
}
