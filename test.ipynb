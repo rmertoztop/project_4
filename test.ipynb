{
 "cells": [
  {
   "cell_type": "code",
   "execution_count": null,
   "metadata": {},
   "outputs": [],
   "source": [
    "import pandas as pd\n",
    "from sklearn.model_selection import train_test_split\n",
    "from sklearn.linear_model import LinearRegression"
   ]
  },
  {
   "cell_type": "code",
   "execution_count": 1,
   "metadata": {},
   "outputs": [
    {
     "ename": "NameError",
     "evalue": "name 'pd' is not defined",
     "output_type": "error",
     "traceback": [
      "\u001b[1;31m---------------------------------------------------------------------------\u001b[0m",
      "\u001b[1;31mNameError\u001b[0m                                 Traceback (most recent call last)",
      "\u001b[1;32m~\\AppData\\Local\\Temp\\ipykernel_2536\\3981111993.py\u001b[0m in \u001b[0;36m<module>\u001b[1;34m\u001b[0m\n\u001b[0;32m      1\u001b[0m \u001b[1;31m# Read the CSV file into a pandas DataFrame\u001b[0m\u001b[1;33m\u001b[0m\u001b[1;33m\u001b[0m\u001b[1;33m\u001b[0m\u001b[0m\n\u001b[1;32m----> 2\u001b[1;33m \u001b[0mdata2\u001b[0m \u001b[1;33m=\u001b[0m \u001b[0mpd\u001b[0m\u001b[1;33m.\u001b[0m\u001b[0mread_csv\u001b[0m\u001b[1;33m(\u001b[0m\u001b[1;34m'2022_2023_NBA_Player_Stats.csv'\u001b[0m\u001b[1;33m,\u001b[0m \u001b[0mencoding\u001b[0m\u001b[1;33m=\u001b[0m\u001b[1;34m'ISO-8859-1'\u001b[0m\u001b[1;33m,\u001b[0m \u001b[0mdelimiter\u001b[0m\u001b[1;33m=\u001b[0m\u001b[1;34m';'\u001b[0m\u001b[1;33m)\u001b[0m\u001b[1;33m\u001b[0m\u001b[1;33m\u001b[0m\u001b[0m\n\u001b[0m\u001b[0;32m      3\u001b[0m \u001b[0mdata2\u001b[0m\u001b[1;33m\u001b[0m\u001b[1;33m\u001b[0m\u001b[0m\n\u001b[0;32m      4\u001b[0m \u001b[1;33m\u001b[0m\u001b[0m\n\u001b[0;32m      5\u001b[0m \u001b[1;31m# Save the DataFrame to a new CSV file with the desired encoding\u001b[0m\u001b[1;33m\u001b[0m\u001b[1;33m\u001b[0m\u001b[1;33m\u001b[0m\u001b[0m\n",
      "\u001b[1;31mNameError\u001b[0m: name 'pd' is not defined"
     ]
    }
   ],
   "source": [
    "# Read the CSV file into a pandas DataFrame\n",
    "data2 = pd.read_csv('2022_2023_NBA_Player_Stats.csv', encoding='ISO-8859-1', delimiter=';')\n",
    "data2\n",
    "\n",
    "# Save the DataFrame to a new CSV file with the desired encoding\n",
    "df.to_csv('2022_2023_NBA_Player_Stats_Transformed.csv', encoding='utf-8', index=False)"
   ]
  },
  {
   "cell_type": "code",
   "execution_count": null,
   "metadata": {},
   "outputs": [],
   "source": [
    "# Select the features (X) and target variables (y) for points (PTS) and assists (AST)\n",
    "features = data[['Age', 'G', 'GS', 'MP', 'FG', 'FGA']]\n",
    "target_pts = data['PTS']\n",
    "target_ast = data['AST']\n"
   ]
  },
  {
   "cell_type": "code",
   "execution_count": null,
   "metadata": {},
   "outputs": [],
   "source": [
    "# Split the data into training and test sets\n",
    "X_train, X_test, y_train_pts, y_test_pts, y_train_ast, y_test_ast = train_test_split(features, target_pts, target_ast, test_size=0.2, random_state=42)"
   ]
  },
  {
   "cell_type": "code",
   "execution_count": null,
   "metadata": {},
   "outputs": [],
   "source": [
    "# Create separate models for points and assists\n",
    "model_pts = LinearRegression()\n",
    "\n",
    "model_ast = LinearRegression()\n",
    "\n",
    "\n",
    "# Train the models\n",
    "model_pts.fit(X_train, y_train_pts)\n",
    "\n",
    "model_ast.fit(X_train, y_train_ast)"
   ]
  },
  {
   "cell_type": "code",
   "execution_count": null,
   "metadata": {},
   "outputs": [],
   "source": [
    "# Make predictions for points and assists\n",
    "pts_predictions = model_pts.predict(X_test)\n",
    "\n",
    "ast_predictions = model_ast.predict(X_test)\n"
   ]
  },
  {
   "cell_type": "code",
   "execution_count": null,
   "metadata": {},
   "outputs": [],
   "source": [
    "player_names = data['Player'].unique()\n",
    "\n",
    "print(player_names)"
   ]
  },
  {
   "cell_type": "code",
   "execution_count": null,
   "metadata": {},
   "outputs": [],
   "source": [
    "# Print the actual and predicted points and assists for a sample player\n",
    "player_name = input(\"Enter the player's name: \")\n",
    "player_row = data[data['Player'] == player_name]\n",
    "player_features = player_row[['Age', 'G', 'GS', 'MP', 'FG', 'FGA']]"
   ]
  },
  {
   "cell_type": "code",
   "execution_count": null,
   "metadata": {},
   "outputs": [],
   "source": [
    "# Get the actual points and assists for the player\n",
    "pts_actual = player_row['PTS'].values[0]\n",
    "ast_actual = player_row['AST'].values[0]\n",
    "\n",
    "# Predict points and assists for the player\n",
    "pts_predicted = model_pts.predict(player_features)[0]\n",
    "ast_predicted = model_ast.predict(player_features)[0]\n",
    "\n",
    "print(\"Player:\", player_name)\n",
    "print(\"2022-2023 Points:\", pts_actual)\n",
    "print(\"2023-2024 Predicted Points:\", pts_predicted)\n",
    "print(\"2022-2023 Assists:\", ast_actual)\n",
    "print(\"2023-2024 Predicted Assists:\", ast_predicted)"
   ]
  }
 ],
 "metadata": {
  "colab": {
   "collapsed_sections": [],
   "name": "Read_and_Write_Parquet_2.ipynb",
   "provenance": []
  },
  "kernelspec": {
   "display_name": "Python 3 (ipykernel)",
   "language": "python",
   "name": "python3"
  },
  "language_info": {
   "codemirror_mode": {
    "name": "ipython",
    "version": 3
   },
   "file_extension": ".py",
   "mimetype": "text/x-python",
   "name": "python",
   "nbconvert_exporter": "python",
   "pygments_lexer": "ipython3",
   "version": "3.7.7"
  },
  "vscode": {
   "interpreter": {
    "hash": "aee8b7b246df8f9039afb4144a1f6fd8d2ca17a180786b69acc140d282b71a49"
   }
  }
 },
 "nbformat": 4,
 "nbformat_minor": 1
}
