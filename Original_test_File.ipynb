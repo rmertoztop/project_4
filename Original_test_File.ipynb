{
 "cells": [
  {
   "cell_type": "code",
   "execution_count": 23,
   "metadata": {},
   "outputs": [],
   "source": [
    "import pandas as pd\n",
    "from sklearn.model_selection import train_test_split\n",
    "from sklearn.linear_model import LinearRegression\n",
    "from sklearn.ensemble import RandomForestRegressor"
   ]
  },
  {
   "cell_type": "code",
   "execution_count": 24,
   "metadata": {},
   "outputs": [],
   "source": [
    "# Read the CSV file into a pandas DataFrame\n",
    "data2 = pd.read_csv('2022_2023_NBA_Player_Stats.csv', encoding='ISO-8859-1', delimiter=';')\n",
    "data2\n",
    "\n",
    "# Save the DataFrame to a new CSV file with the desired encoding\n",
    "data2.to_csv('2022_2023_NBA_Player_Stats_Transformed.csv', encoding='utf-8', index=False)"
   ]
  },
  {
   "cell_type": "code",
   "execution_count": 25,
   "metadata": {},
   "outputs": [
    {
     "data": {
      "text/plain": [
       "Index(['Rk', 'Player', 'Pos', 'Age', 'Tm', 'G', 'GS', 'MP', 'FG', 'FGA', 'FG%',\n",
       "       '3P', '3PA', '3P%', '2P', '2PA', '2P%', 'eFG%', 'FT', 'FTA', 'FT%',\n",
       "       'ORB', 'DRB', 'TRB', 'AST', 'STL', 'BLK', 'TOV', 'PF', 'PTS'],\n",
       "      dtype='object')"
      ]
     },
     "execution_count": 25,
     "metadata": {},
     "output_type": "execute_result"
    }
   ],
   "source": [
    "data2.columns"
   ]
  },
  {
   "cell_type": "code",
   "execution_count": 26,
   "metadata": {},
   "outputs": [],
   "source": [
    "# Select the features (X) and target variables (y) for points (PTS) and assists (AST)\n",
    "features = data2[['Age', 'G', 'GS', 'MP', 'FG', 'FGA']]\n",
    "target_pts = data2['PTS']\n",
    "target_ast = data2['AST']\n"
   ]
  },
  {
   "cell_type": "code",
   "execution_count": 27,
   "metadata": {},
   "outputs": [],
   "source": [
    "# Split the data into training and test sets\n",
    "X_train, X_test, y_train_pts, y_test_pts, y_train_ast, y_test_ast = train_test_split(features, target_pts, target_ast, test_size=0.2, random_state=42)"
   ]
  },
  {
   "cell_type": "code",
   "execution_count": 28,
   "metadata": {},
   "outputs": [
    {
     "data": {
      "text/plain": [
       "LinearRegression()"
      ]
     },
     "execution_count": 28,
     "metadata": {},
     "output_type": "execute_result"
    }
   ],
   "source": [
    "# Create separate models for points and assists\n",
    "model_pts = LinearRegression()\n",
    "\n",
    "model_ast = LinearRegression()\n",
    "\n",
    "\n",
    "# Train the models\n",
    "model_pts.fit(X_train, y_train_pts)\n",
    "\n",
    "model_ast.fit(X_train, y_train_ast)"
   ]
  },
  {
   "cell_type": "code",
   "execution_count": 29,
   "metadata": {},
   "outputs": [],
   "source": [
    "# Make predictions for points and assists\n",
    "pts_predictions = model_pts.predict(X_test)\n",
    "\n",
    "ast_predictions = model_ast.predict(X_test)\n"
   ]
  },
  {
   "cell_type": "code",
   "execution_count": 30,
   "metadata": {},
   "outputs": [
    {
     "name": "stdout",
     "output_type": "stream",
     "text": [
      "['Precious Achiuwa' 'Steven Adams' 'Bam Adebayo' 'Ochai Agbaji'\n",
      " 'Santi Aldama' 'Nickeil Alexander-Walker' 'Grayson Allen' 'Jarrett Allen'\n",
      " 'Jose Alvarado' 'Kyle Anderson' 'Giannis Antetokounmpo'\n",
      " 'Thanasis Antetokounmpo' 'Cole Anthony' 'OG Anunoby' 'Ryan Arcidiacono'\n",
      " 'Deni Avdija' 'Deandre Ayton' 'Udoka Azubuike' 'Marvin Bagley III'\n",
      " 'Patrick Baldwin Jr.' 'LaMelo Ball' 'Mo Bamba' 'Paolo Banchero'\n",
      " 'Desmond Bane' 'Dalano Banton' 'Dominick Barlow' 'Harrison Barnes'\n",
      " 'Scottie Barnes' 'RJ Barrett' 'Will Barton' 'Charles Bassey'\n",
      " 'Keita Bates-Diop' 'Nicolas Batum' 'Darius Bazley' 'Bradley Beal'\n",
      " 'Malik Beasley' 'MarJon Beauchamp' 'D?vis Bert?ns' 'Patrick Beverley'\n",
      " 'Saddiq Bey' 'Khem Birch' 'Goga Bitadze' 'Bismack Biyombo'\n",
      " 'Buddy Boeheim' 'Bogdan Bogdanovi?' 'Bojan Bogdanovi?' 'Bol Bol'\n",
      " 'Leandro Bolmaro' 'Devin Booker' 'Brandon Boston Jr.' 'Chris Boucher'\n",
      " 'James Bouknight' 'Jamaree Bouyea' 'Tony Bradley' 'Malaki Branham'\n",
      " 'Jarrell Brantley' 'Christian Braun' 'Mikal Bridges' 'Oshae Brissett'\n",
      " 'Malcolm Brogdon' 'Dillon Brooks' 'Bruce Brown' 'Greg Brown III'\n",
      " 'Jaylen Brown' 'Kendall Brown' 'Moses Brown' 'Sterling Brown'\n",
      " 'Troy Brown Jr.' 'Jalen Brunson' 'Thomas Bryant' 'Reggie Bullock'\n",
      " 'Alec Burks' 'Deonte Burton' 'Jared Butler' 'Jimmy Butler' 'John Butler'\n",
      " 'Jamal Cain' 'Kentavious Caldwell-Pope' 'Facundo Campazzo'\n",
      " 'Vlatko ?an?ar' 'Clint Capela' 'Vernon Carey Jr.' 'Jevon Carter'\n",
      " 'Wendell Carter Jr.' 'Michael Carter-Williams' 'Alex Caruso'\n",
      " 'Julian Champagnie' 'Justin Champagnie' 'Kennedy Chandler' 'Max Christie'\n",
      " 'Josh Christopher' 'Brandon Clarke' 'Jordan Clarkson' 'Nic Claxton'\n",
      " 'Amir Coffey' 'John Collins' 'Zach Collins' 'Chance Comanche'\n",
      " 'Mike Conley' 'Pat Connaughton' 'Xavier Cooks' 'Robert Covington'\n",
      " 'Torrey Craig' 'Jae Crowder' 'Jarrett Culver' 'Cade Cunningham'\n",
      " 'Seth Curry' 'Stephen Curry' 'Dyson Daniels' 'Anthony Davis'\n",
      " 'Johnny Davis' 'Terence Davis' 'JD Davison' 'Darius Days'\n",
      " 'Dewayne Dedmon' 'Matthew Dellavedova' 'DeMar DeRozan' 'Moussa Diabaté'\n",
      " 'Mamadi Diakite' 'Hamidou Diallo' 'Gorgui Dieng' 'Ousmane Dieng'\n",
      " 'Spencer Dinwiddie' 'Donte DiVincenzo' 'Luka Don?i?' 'Tyler Dorsey'\n",
      " 'Luguentz Dort' 'Ayo Dosunmu' 'Devon Dotson' 'Jeff Dowtin' 'PJ Dozier'\n",
      " 'Goran Dragi?' 'Andre Drummond' 'Chris Duarte' 'David Duke Jr.'\n",
      " 'Kris Dunn' 'Kevin Durant' 'Jalen Duren' 'Tari Eason' 'Anthony Edwards'\n",
      " 'Kessler Edwards' 'Keon Ellis' 'Joel Embiid' 'Drew Eubanks'\n",
      " 'Bruno Fernando' 'Dorian Finney-Smith' 'Malachi Flynn'\n",
      " 'Simone Fontecchio' 'Bryn Forbes' 'Trent Forrest' 'Michael Foster Jr.'\n",
      " 'Evan Fournier' \"De'Aaron Fox\" 'Markelle Fultz' 'Wenyen Gabriel'\n",
      " 'Daniel Gafford' 'Darius Garland' 'Usman Garuba' 'Luka Garza' 'Rudy Gay'\n",
      " 'Paul George' 'Taj Gibson' 'Josh Giddey' 'Shai Gilgeous-Alexander'\n",
      " 'Anthony Gill' 'Jacob Gilyard' 'Rudy Gobert' 'Jordan Goodwin'\n",
      " 'Aaron Gordon' 'Eric Gordon' \"Devonte' Graham\" 'Jerami Grant'\n",
      " 'RaiQuan Gray' 'A.J. Green' 'Danny Green' 'Draymond Green' 'Jalen Green'\n",
      " 'JaMychal Green' 'Javonte Green' 'Jeff Green' 'Josh Green' 'AJ Griffin'\n",
      " 'Blake Griffin' 'Quentin Grimes' 'Rui Hachimura' 'Tyrese Haliburton'\n",
      " 'Jordan Hall' 'R.J. Hampton' 'Tim Hardaway Jr.' 'James Harden'\n",
      " 'Jaden Hardy' 'Ron Harper Jr.' 'Montrezl Harrell' 'Gary Harris'\n",
      " 'Joe Harris' 'Kevon Harris' 'Tobias Harris' 'Shaquille Harrison'\n",
      " 'Josh Hart' 'Isaiah Hartenstein' 'Udonis Haslem' 'Sam Hauser'\n",
      " 'Jaxson Hayes' 'Killian Hayes' 'Gordon Hayward' 'Juancho Hernangómez'\n",
      " 'Willy Hernangómez' 'Tyler Herro' 'Buddy Hield' 'Haywood Highsmith'\n",
      " 'George Hill' 'Malcolm Hill' 'Aaron Holiday' 'Jrue Holiday'\n",
      " 'Justin Holiday' 'Richaun Holmes' 'Al Horford' 'Talen Horton-Tucker'\n",
      " 'Danuel House Jr.' 'Caleb Houstan' 'Trevor Hudgins' 'Kevin Huerter'\n",
      " 'Jay Huff' \"De'Andre Hunter\" 'Bones Hyland' 'Serge Ibaka'\n",
      " 'Andre Iguodala' 'Joe Ingles' 'Brandon Ingram' 'Kyrie Irving'\n",
      " 'Jonathan Isaac' 'Jaden Ivey' 'Frank Jackson' 'Isaiah Jackson'\n",
      " 'Jaren Jackson Jr.' 'Justin Jackson' 'Quenton Jackson' 'Reggie Jackson'\n",
      " 'LeBron James' 'Ty Jerome' 'Isaiah Joe' 'Alize Johnson' 'Cameron Johnson'\n",
      " 'Jalen Johnson' 'James Johnson' 'Keldon Johnson' 'Keon Johnson'\n",
      " 'Stanley Johnson' 'Nikola Joki?' 'Carlik Jones' 'Damian Jones'\n",
      " 'Derrick Jones Jr.' 'Herbert Jones' 'Kai Jones' 'Tre Jones' 'Tyus Jones'\n",
      " 'DeAndre Jordan' 'Cory Joseph' 'Nikola Jovi?' 'Johnny Juzang'\n",
      " 'Mfiondu Kabengele' 'Frank Kaminsky' 'Trevor Keels' 'Luke Kennard'\n",
      " 'Walker Kessler' 'Braxton Key' 'Louis King' 'Corey Kispert' 'Maxi Kleber'\n",
      " 'Nathan Knight' 'Kevin Knox' 'Christian Koloko' 'John Konchar'\n",
      " 'Furkan Korkmaz' 'Luke Kornet' 'Vit Krejci' 'Jonathan Kuminga'\n",
      " 'Kyle Kuzma' 'Anthony Lamb' 'Jock Landale' 'Romeo Langford'\n",
      " 'Jake LaRavia' 'Zach LaVine' 'A.J. Lawson' 'Damion Lee' 'Saben Lee'\n",
      " 'Alex Len' 'Kawhi Leonard' 'Meyers Leonard' 'Caris LeVert'\n",
      " 'Kira Lewis Jr.' 'Damian Lillard' 'Nassir Little' 'Isaiah Livers'\n",
      " 'Kenneth Lofton Jr.' 'Kevon Looney' 'Brook Lopez' 'Robin Lopez'\n",
      " 'Kevin Love' 'Kyle Lowry' 'Trey Lyles' 'Théo Maledon'\n",
      " 'Sandro Mamukelashvili' 'Terance Mann' 'Tre Mann' 'Boban Marjanovi?'\n",
      " 'Lauri Markkanen' 'Naji Marshall' 'Caleb Martin' 'Cody Martin'\n",
      " 'Kenyon Martin Jr.' 'Tyrese Martin' 'Garrison Mathews'\n",
      " 'Bennedict Mathurin' 'Wesley Matthews' 'Tyrese Maxey' 'Skylar Mays'\n",
      " 'Miles McBride' 'Mac McClung' 'CJ McCollum' 'T.J. McConnell'\n",
      " 'Jaden McDaniels' 'Jalen McDaniels' 'Doug McDermott' 'JaVale McGee'\n",
      " 'Bryce McGowens' 'Rodney McGruder' 'Jordan McLaughlin'\n",
      " \"De'Anthony Melton\" 'Sam Merrill' 'Chimezie Metu' 'Khris Middleton'\n",
      " 'Patty Mills' 'Shake Milton' 'Justin Minaya' 'Josh Minott'\n",
      " 'Davion Mitchell' 'Donovan Mitchell' 'Evan Mobley' 'Isaiah Mobley'\n",
      " 'Chima Moneke' 'Malik Monk' 'Moses Moody' 'Xavier Moon'\n",
      " 'Wendell Moore Jr.' 'Ja Morant' 'Marcus Morris' 'Markieff Morris'\n",
      " 'Monte Morris' 'Trey Murphy III' 'Dejounte Murray' 'Jamal Murray'\n",
      " 'Keegan Murray' 'Mike Muscala' 'Svi Mykhailiuk' 'Larry Nance Jr.'\n",
      " 'Andrew Nembhard' 'Aaron Nesmith' 'Raul Neto' 'Georges Niang'\n",
      " 'Daishen Nix' 'Zeke Nnaji' 'Nerlens Noel' 'Jaylen Nowell'\n",
      " 'Frank Ntilikina' 'Kendrick Nunn' 'Jusuf Nurki?' 'Jordan Nwora'\n",
      " \"Royce O'Neale\" 'Chuma Okeke' 'Josh Okogie' 'Onyeka Okongwu'\n",
      " 'Isaac Okoro' 'KZ Okpala' 'Victor Oladipo' 'Kelly Olynyk'\n",
      " 'Eugene Omoruyi' 'Cedi Osman' 'Kelly Oubre Jr.' 'Chris Paul'\n",
      " 'Cameron Payne' 'Gary Payton II' 'Theo Pinson' 'Scotty Pippen Jr.'\n",
      " 'Mason Plumlee' 'Jakob Poeltl' 'Aleksej Pokusevski' 'Jordan Poole'\n",
      " 'Kevin Porter Jr.' 'Michael Porter Jr.' 'Otto Porter Jr.' 'Bobby Portis'\n",
      " 'Kristaps Porzi??is' 'Micah Potter' 'Dwight Powell' 'Norman Powell'\n",
      " 'Jason Preston' 'Joshua Primo' 'Taurean Prince' 'Payton Pritchard'\n",
      " 'Trevelin Queen' 'Neemias Queta' 'Immanuel Quickley' 'Lester Quinones'\n",
      " 'Julius Randle' 'Austin Reaves' 'Cam Reddish' 'Davon Reed' 'Paul Reed'\n",
      " 'Naz Reid' 'Jared Rhoden' 'Nick Richards' 'Josh Richardson'\n",
      " 'Austin Rivers' 'Duncan Robinson' 'Mitchell Robinson' 'Orlando Robinson'\n",
      " 'Jeremiah Robinson-Earl' 'Isaiah Roby' 'David Roddy' 'Ryan Rollins'\n",
      " 'Derrick Rose' 'Terrence Ross' 'Terry Rozier' 'Ricky Rubio'\n",
      " \"D'Angelo Russell\" 'Matt Ryan' 'Domantas Sabonis' 'Luka \\x8aamani?'\n",
      " 'Dario \\x8aari?' 'Olivier Sarr' 'Jordan Schakel' 'Admiral Schofield'\n",
      " 'Dennis Schröder' 'Jay Scrubb' 'Dereon Seabron' 'Alperen Þengün'\n",
      " 'Collin Sexton' 'Landry Shamet' \"Day'Ron Sharpe\" 'Shaedon Sharpe'\n",
      " 'Pascal Siakam' 'Chris Silva' 'Ben Simmons' 'Kobi Simmons'\n",
      " 'Marko Simonovic' 'Anfernee Simons' 'Jericho Sims' 'Marcus Smart'\n",
      " 'Dennis Smith Jr.' 'Dru Smith' 'Ish Smith' 'Jabari Smith Jr.'\n",
      " 'Jalen Smith' 'Xavier Sneed' 'Jeremy Sochan' 'Jaden Springer'\n",
      " 'Lamar Stevens' 'Isaiah Stewart' 'Max Strus' 'Jalen Suggs'\n",
      " 'Edmond Sumner' 'Cole Swider' \"Jae'Sean Tate\" 'Jayson Tatum'\n",
      " 'Terry Taylor' 'Garrett Temple' 'Dalen Terry' 'Daniel Theis' 'Cam Thomas'\n",
      " 'Klay Thompson' 'JT Thor' 'Matisse Thybulle' 'Xavier Tillman Sr.'\n",
      " 'Isaiah Todd' 'Obi Toppin' 'Juan Toscano-Anderson' 'Karl-Anthony Towns'\n",
      " 'Gary Trent Jr.' 'P.J. Tucker' 'Myles Turner' 'Stanley Umude'\n",
      " 'Jonas Valan?i?nas' 'Jarred Vanderbilt' 'Fred VanVleet' 'Devin Vassell'\n",
      " 'Gabe Vincent' 'Noah Vonleh' 'Nikola Vu?evi?' 'Dean Wade' 'Franz Wagner'\n",
      " 'Moritz Wagner' 'Ish Wainright' 'Jabari Walker' 'Kemba Walker'\n",
      " 'Lonnie Walker IV' 'John Wall' 'T.J. Warren' 'Duane Washington Jr.'\n",
      " 'P.J. Washington' 'TyTy Washington Jr.' 'Yuta Watanabe'\n",
      " 'Lindy Waters III' 'Trendon Watford' 'Peyton Watson' 'Blake Wesley'\n",
      " 'Russell Westbrook' 'Coby White' 'Derrick White' 'Jack White'\n",
      " 'Joe Wieskamp' 'Aaron Wiggins' 'Andrew Wiggins' 'Lindell Wigginton'\n",
      " 'Alondes Williams' 'Donovan Williams' 'Grant Williams' 'Jalen Williams'\n",
      " 'Jaylin Williams' 'Jeenathan Williams' 'Kenrich Williams' 'Mark Williams'\n",
      " 'Patrick Williams' 'Robert Williams' 'Vince Williams Jr.'\n",
      " 'Ziaire Williams' 'Zion Williamson' 'Dylan Windler' 'Justise Winslow'\n",
      " 'James Wiseman' 'Christian Wood' 'Delon Wright' 'McKinley Wright IV'\n",
      " 'Gabe York' 'Thaddeus Young' 'Trae Young' 'Omer Yurtseven' 'Cody Zeller'\n",
      " 'Ivica Zubac']\n"
     ]
    }
   ],
   "source": [
    "player_names = data2['Player'].unique()\n",
    "\n",
    "print(player_names)"
   ]
  },
  {
   "cell_type": "code",
   "execution_count": 31,
   "metadata": {},
   "outputs": [],
   "source": [
    "# Print the actual and predicted points and assists for a sample player\n",
    "player_name = input(\"Enter the player's name: \")\n",
    "player_row = data2[data2['Player'] == player_name]\n",
    "player_features = player_row[['Age', 'G', 'GS', 'MP', 'FG', 'FGA']]"
   ]
  },
  {
   "cell_type": "code",
   "execution_count": 32,
   "metadata": {},
   "outputs": [
    {
     "name": "stdout",
     "output_type": "stream",
     "text": [
      "Player: Zion Williamson\n",
      "2022-2023 Points: 26.0\n",
      "2023-2024 Predicted Points: 25.64097220997928\n",
      "2022-2023 Assists: 4.6\n",
      "2023-2024 Predicted Assists: 3.9469072449561\n"
     ]
    }
   ],
   "source": [
    "# Get the actual points and assists for the player\n",
    "pts_actual = player_row['PTS'].values[0]\n",
    "ast_actual = player_row['AST'].values[0]\n",
    "\n",
    "# Predict points and assists for the player\n",
    "pts_predicted = model_pts.predict(player_features)[0]\n",
    "ast_predicted = model_ast.predict(player_features)[0]\n",
    "\n",
    "print(\"Player:\", player_name)\n",
    "print(\"2022-2023 Points:\", pts_actual)\n",
    "print(\"2023-2024 Predicted Points:\", pts_predicted)\n",
    "print(\"2022-2023 Assists:\", ast_actual)\n",
    "print(\"2023-2024 Predicted Assists:\", ast_predicted)"
   ]
  },
  {
   "cell_type": "code",
   "execution_count": 33,
   "metadata": {},
   "outputs": [
    {
     "name": "stdout",
     "output_type": "stream",
     "text": [
      "Selected Features:\n",
      "Index(['FG', 'MP', 'FGA', 'Age', 'G', 'GS'], dtype='object')\n"
     ]
    }
   ],
   "source": [
    "# Create the Random Forest Regressor\n",
    "rf = RandomForestRegressor()\n",
    "\n",
    "# Fit the model to the training data for points\n",
    "rf.fit(X_train, y_train_pts)\n",
    "\n",
    "# Get the feature importances for points\n",
    "feature_importances_pts = rf.feature_importances_\n",
    "\n",
    "# Fit the model to the training data for assists\n",
    "rf.fit(X_train, y_train_ast)\n",
    "\n",
    "# Get the feature importances for assists\n",
    "feature_importances_ast = rf.feature_importances_\n",
    "\n",
    "# Average the feature importances for both targets\n",
    "average_feature_importances = (feature_importances_pts + feature_importances_ast) / 2\n",
    "\n",
    "# Sort the features based on importance\n",
    "sorted_indices = average_feature_importances.argsort()[::-1]\n",
    "\n",
    "# Get the names of the selected features\n",
    "selected_features = features.columns[sorted_indices]\n",
    "\n",
    "# Print the selected features\n",
    "print(\"Selected Features:\")\n",
    "print(selected_features)\n"
   ]
  }
 ],
 "metadata": {
  "colab": {
   "collapsed_sections": [],
   "name": "Read_and_Write_Parquet_2.ipynb",
   "provenance": []
  },
  "kernelspec": {
   "display_name": "Python 3 (ipykernel)",
   "language": "python",
   "name": "python3"
  },
  "language_info": {
   "codemirror_mode": {
    "name": "ipython",
    "version": 3
   },
   "file_extension": ".py",
   "mimetype": "text/x-python",
   "name": "python",
   "nbconvert_exporter": "python",
   "pygments_lexer": "ipython3",
   "version": "3.7.7"
  },
  "vscode": {
   "interpreter": {
    "hash": "aee8b7b246df8f9039afb4144a1f6fd8d2ca17a180786b69acc140d282b71a49"
   }
  }
 },
 "nbformat": 4,
 "nbformat_minor": 1
}
