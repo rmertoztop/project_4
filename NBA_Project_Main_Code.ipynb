{
  "cells": [
    {
      "attachments": {},
      "cell_type": "markdown",
      "metadata": {
        "colab_type": "text",
        "id": "view-in-github"
      },
      "source": [
        "<a href=\"https://colab.research.google.com/github/rmertoztop/project_4/blob/Jacob/Copy_of_NBA_Project_Main_Code.ipynb\" target=\"_parent\"><img src=\"https://colab.research.google.com/assets/colab-badge.svg\" alt=\"Open In Colab\"/></a>"
      ]
    },
    {
      "attachments": {},
      "cell_type": "markdown",
      "metadata": {
        "id": "Cy5K0_mjXq7G"
      },
      "source": [
        "# PREDICTING NBA SCORE POINTS FOR NEXT SEASON\n",
        "\n",
        "---"
      ]
    },
    {
      "attachments": {},
      "cell_type": "markdown",
      "metadata": {
        "id": "PAYX-EsIX09b"
      },
      "source": [
        "## SetUp Environment"
      ]
    },
    {
      "cell_type": "code",
      "execution_count": null,
      "metadata": {
        "colab": {
          "base_uri": "https://localhost:8080/"
        },
        "id": "GUuQ-HwXRI_p",
        "outputId": "b94c302f-dd45-43ae-cf37-2c655ee67ee1"
      },
      "outputs": [
        {
          "name": "stdout",
          "output_type": "stream",
          "text": [
            "\r0% [Working]\r            \rHit:1 https://cloud.r-project.org/bin/linux/ubuntu focal-cran40/ InRelease\n",
            "\r0% [Connecting to archive.ubuntu.com (185.125.190.39)] [Waiting for headers] [C\r                                                                               \rHit:2 https://developer.download.nvidia.com/compute/cuda/repos/ubuntu2004/x86_64  InRelease\n",
            "Hit:3 http://security.ubuntu.com/ubuntu focal-security InRelease\n",
            "Hit:4 http://archive.ubuntu.com/ubuntu focal InRelease\n",
            "Hit:5 http://ppa.launchpad.net/c2d4u.team/c2d4u4.0+/ubuntu focal InRelease\n",
            "Get:6 http://archive.ubuntu.com/ubuntu focal-updates InRelease [114 kB]\n",
            "Hit:7 http://ppa.launchpad.net/cran/libgit2/ubuntu focal InRelease\n",
            "Hit:8 http://ppa.launchpad.net/deadsnakes/ppa/ubuntu focal InRelease\n",
            "Get:9 http://archive.ubuntu.com/ubuntu focal-backports InRelease [108 kB]\n",
            "Hit:10 http://ppa.launchpad.net/graphics-drivers/ppa/ubuntu focal InRelease\n",
            "Hit:11 http://ppa.launchpad.net/ubuntugis/ppa/ubuntu focal InRelease\n",
            "Fetched 222 kB in 2s (128 kB/s)\n",
            "Reading package lists... Done\n"
          ]
        }
      ],
      "source": [
        "import os\n",
        "# Find the latest version of spark 3.x  from http://www.apache.org/dist/spark/ and enter as the spark version\n",
        "# For example: spark_version = 'spark-3.3.1'\n",
        "spark_version = 'spark-3.3.2'\n",
        "os.environ['SPARK_VERSION']=spark_version\n",
        "\n",
        "# Install Spark and Java\n",
        "!apt-get update\n",
        "!apt-get install openjdk-11-jdk-headless -qq > /dev/null\n",
        "!wget -q http://www.apache.org/dist/spark/$SPARK_VERSION/$SPARK_VERSION-bin-hadoop3.tgz\n",
        "!tar xf $SPARK_VERSION-bin-hadoop3.tgz\n",
        "!pip install -q findspark\n",
        "\n",
        "# Set Environment Variables\n",
        "os.environ[\"JAVA_HOME\"] = \"/usr/lib/jvm/java-11-openjdk-amd64\"\n",
        "os.environ[\"SPARK_HOME\"] = f\"/content/{spark_version}-bin-hadoop3\"\n",
        "\n",
        "# Start a SparkSession\n",
        "import findspark\n",
        "findspark.init()"
      ]
    },
    {
      "attachments": {},
      "cell_type": "markdown",
      "metadata": {
        "id": "Ci0QM7WOYJV8"
      },
      "source": [
        "# Import Packages"
      ]
    },
    {
      "cell_type": "code",
      "execution_count": null,
      "metadata": {
        "id": "dKI5_yDtRLhI"
      },
      "outputs": [],
      "source": [
        "# Import packages\n",
        "from pyspark.sql import SparkSession\n",
        "from pyspark.sql import Row\n",
        "from pyspark.sql.types import StructType, StructField, StringType, DateType, IntegerType\n",
        "from pyspark import SparkFiles\n",
        "from sklearn import metrics\n",
        "from sklearn.model_selection import train_test_split\n",
        "\n",
        "from sklearn.ensemble import RandomForestRegressor\n",
        "from pyspark.sql.functions import col\n",
        "import pandas as pd\n",
        "import numpy as np\n",
        "import matplotlib.pyplot as plt\n",
        "import seaborn as sns"
      ]
    },
    {
      "cell_type": "code",
      "execution_count": null,
      "metadata": {
        "id": "v_qL3qDZT93U"
      },
      "outputs": [],
      "source": [
        "# Create a SparkSession\n",
        "spark = SparkSession.builder.appName(\"NBA_Prediction\").getOrCreate()"
      ]
    },
    {
      "cell_type": "code",
      "execution_count": null,
      "metadata": {
        "id": "FrDooCLCRNMw"
      },
      "outputs": [],
      "source": [
        "# Import data(season 2021/2022 and 2022/2023) using s3 bucket\n",
        "url2022 = 'https://project4nba.s3.amazonaws.com/2022_2023_NBA_Player_Stats_Transformed.csv'\n",
        "\n",
        "url2021 = 'https://project4nba.s3.amazonaws.com/2021_2022_NBA_Player_Stats_Transformed.csv'"
      ]
    },
    {
      "cell_type": "code",
      "execution_count": null,
      "metadata": {
        "id": "l38R6go6RO36"
      },
      "outputs": [],
      "source": [
        " # SparkFiles will allow you to resolves paths to files added through `SparkContext.addFile`\n",
        "spark.sparkContext.addFile(url2022)\n",
        "\n",
        "spark.sparkContext.addFile(url2021)\n",
        "\n",
        "data2022 = spark.read.option('header', 'true').option(\"encoding\", \"utf-8\").csv(SparkFiles.get(\"2022_2023_NBA_Player_Stats_Transformed.csv\"), inferSchema=True, sep=',')\n",
        "\n",
        "data2021 = spark.read.option('header', 'true').option(\"encoding\", \"utf-8\").csv(SparkFiles.get(\"2021_2022_NBA_Player_Stats_Transformed.csv\"), inferSchema=True, sep=';')"
      ]
    },
    {
      "cell_type": "code",
      "execution_count": null,
      "metadata": {
        "colab": {
          "base_uri": "https://localhost:8080/"
        },
        "id": "VJuz_CtsRQwx",
        "outputId": "273f088d-d8d2-4df0-d409-a7a29003c50b"
      },
      "outputs": [
        {
          "name": "stdout",
          "output_type": "stream",
          "text": [
            "+---+--------------------+---+---+---+---+---+----+----+----+-----+---+---+-----+----+----+-----+-----+---+----+-----+---+---+----+---+---+---+---+---+----+\n",
            "| Rk|              Player|Pos|Age| Tm|  G| GS|  MP|  FG| FGA|  FG%| 3P|3PA|  3P%|  2P| 2PA|  2P%| eFG%| FT| FTA|  FT%|ORB|DRB| TRB|AST|STL|BLK|TOV| PF| PTS|\n",
            "+---+--------------------+---+---+---+---+---+----+----+----+-----+---+---+-----+----+----+-----+-----+---+----+-----+---+---+----+---+---+---+---+---+----+\n",
            "|  1|    Precious Achiuwa|  C| 23|TOR| 55| 12|20.7| 3.6| 7.3|0.485|0.5|2.0|0.269| 3.0| 5.4|0.564|0.521|1.6| 2.3|0.702|1.8|4.1| 6.0|0.9|0.6|0.5|1.1|1.9| 9.2|\n",
            "|  2|        Steven Adams|  C| 29|MEM| 42| 42|27.0| 3.7| 6.3|0.597|0.0|0.0|  0.0| 3.7| 6.2|0.599|0.597|1.1| 3.1|0.364|5.1|6.5|11.5|2.3|0.9|1.1|1.9|2.3| 8.6|\n",
            "|  3|         Bam Adebayo|  C| 25|MIA| 75| 75|34.6| 8.0|14.9| 0.54|0.0|0.2|0.083| 8.0|14.7|0.545|0.541|4.3| 5.4|0.806|2.5|6.7| 9.2|3.2|1.2|0.8|2.5|2.8|20.4|\n",
            "|  4|        Ochai Agbaji| SG| 22|UTA| 59| 22|20.5| 2.8| 6.5|0.427|1.4|3.9|0.355| 1.4| 2.7|0.532|0.532|0.9| 1.2|0.812|0.7|1.3| 2.1|1.1|0.3|0.3|0.7|1.7| 7.9|\n",
            "|  5|        Santi Aldama| PF| 22|MEM| 77| 20|21.8| 3.2| 6.8| 0.47|1.2|3.5|0.353| 2.0| 3.4|0.591| 0.56|1.4| 1.9| 0.75|1.1|3.7| 4.8|1.3|0.6|0.6|0.8|1.9| 9.0|\n",
            "|  6|Nickeil Alexander...| SG| 24|TOT| 59|  3|15.0| 2.2| 5.0|0.444|1.0|2.7|0.384| 1.2| 2.3|0.515|0.547|0.7| 1.0|0.667|0.3|1.5| 1.7|1.8|0.5|0.4|0.9|1.5| 6.2|\n",
            "|  6|Nickeil Alexander...| SG| 24|UTA| 36|  3|14.7| 2.3| 4.7|0.488|1.0|2.4|0.402| 1.3| 2.3|0.578|0.591|0.8| 1.1|0.692|0.2|1.4| 1.6|2.1|0.7|0.4|1.3|1.6| 6.3|\n",
            "|  6|Nickeil Alexander...| SG| 24|MIN| 23|  0|15.5| 2.1| 5.4|0.384|1.1|3.1|0.361| 1.0| 2.3|0.415|0.488|0.6| 0.9|0.619|0.3|1.5| 1.8|1.4|0.3|0.3|0.4|1.3| 5.9|\n",
            "|  7|       Grayson Allen| SG| 27|MIL| 72| 70|27.4| 3.4| 7.7| 0.44|2.0|5.1|0.399| 1.4| 2.7|0.518|0.571|1.6| 1.8|0.905|0.8|2.4| 3.3|2.3|0.9|0.2|1.0|1.6|10.4|\n",
            "|  8|       Jarrett Allen|  C| 24|CLE| 68| 68|32.6| 5.9| 9.2|0.644|0.0|0.1|  0.1| 5.9| 9.1|0.653|0.645|2.4| 3.3|0.733|3.3|6.5| 9.8|1.7|0.8|1.2|1.4|2.3|14.3|\n",
            "|  9|       Jose Alvarado| PG| 24|NOP| 61| 10|21.5| 3.3| 8.0|0.411|1.4|4.0|0.336| 1.9| 4.0|0.488|0.496|1.1| 1.3|0.813|0.5|1.9| 2.3|3.0|1.1|0.2|1.3|2.0| 9.0|\n",
            "| 10|       Kyle Anderson| PF| 29|MIN| 69| 46|28.4| 3.7| 7.2|0.509|0.6|1.5| 0.41| 3.0| 5.7|0.536|0.553|1.4| 2.0|0.735|1.0|4.4| 5.3|4.9|1.1|0.9|1.5|2.1| 9.4|\n",
            "| 11|Giannis Antetokou...| PF| 28|MIL| 63| 63|32.1|11.2|20.3|0.553|0.7|2.7|0.275|10.5|17.6|0.596|0.572|7.9|12.3|0.645|2.2|9.6|11.8|5.7|0.8|0.8|3.9|3.1|31.1|\n",
            "| 12|Thanasis Antetoko...| SF| 30|MIL| 37|  0| 5.6| 0.5| 1.2|0.435|0.0|0.2|  0.0| 0.5| 1.0|0.526|0.435|0.3| 0.6|  0.5|0.4|0.8| 1.2|0.4|0.1|0.1|0.3|0.6| 1.4|\n",
            "| 13|        Cole Anthony| PG| 22|ORL| 60|  4|25.9| 4.6|10.2|0.454|1.3|3.4|0.364| 3.4| 6.7|  0.5|0.516|2.5| 2.8|0.894|0.8|4.0| 4.8|3.9|0.6|0.5|1.5|2.6|13.0|\n",
            "| 14|          OG Anunoby| SF| 25|TOR| 67| 67|35.6| 6.3|13.2|0.476|2.1|5.5|0.387| 4.2| 7.7|0.539|0.556|2.1| 2.5|0.838|1.4|3.5| 5.0|2.0|1.9|0.7|2.0|3.0|16.8|\n",
            "| 15|    Ryan Arcidiacono| PG| 28|TOT| 20|  4| 8.6| 0.5| 1.9|0.243|0.4|1.2|0.348| 0.1| 0.7|0.071|0.351|0.0| 0.0|  0.0|0.0|0.8| 0.8|1.2|0.3|0.0|0.4|0.9| 1.3|\n",
            "| 15|    Ryan Arcidiacono| PG| 28|NYK| 11|  0| 2.4| 0.1| 0.5|  0.2|0.1|0.3|0.333| 0.0| 0.2|  0.0|  0.3|0.0| 0.0|  0.0|0.0|0.4| 0.4|0.2|0.2|0.0|0.1|0.3| 0.3|\n",
            "| 15|    Ryan Arcidiacono| PG| 28|POR|  9|  4|16.2| 0.9| 3.6| 0.25|0.8|2.2| 0.35| 0.1| 1.3|0.083|0.359|0.0| 0.0|  0.0|0.0|1.2| 1.2|2.3|0.3|0.0|0.7|1.6| 2.6|\n",
            "| 16|         Deni Avdija| SF| 22|WAS| 76| 40|26.6| 3.3| 7.6|0.437|0.9|3.1|0.297| 2.4| 4.6| 0.53|0.497|1.6| 2.2|0.739|1.0|5.4| 6.4|2.8|0.9|0.4|1.6|2.8| 9.2|\n",
            "+---+--------------------+---+---+---+---+---+----+----+----+-----+---+---+-----+----+----+-----+-----+---+----+-----+---+---+----+---+---+---+---+---+----+\n",
            "only showing top 20 rows\n",
            "\n"
          ]
        }
      ],
      "source": [
        "# Show  first DataFrame\n",
        "data2022.show()"
      ]
    },
    {
      "cell_type": "code",
      "execution_count": null,
      "metadata": {
        "colab": {
          "base_uri": "https://localhost:8080/"
        },
        "id": "GBm8jXbQRS47",
        "outputId": "7837abcb-f80a-4ae4-8f8b-befbade397f6"
      },
      "outputs": [
        {
          "name": "stdout",
          "output_type": "stream",
          "text": [
            "+---+--------------------+---+---+---+---+---+----+----+----+-----+---+---+-----+---+----+-----+-----+---+----+-----+---+---+----+---+---+---+---+---+----+\n",
            "| Rk|              Player|Pos|Age| Tm|  G| GS|  MP|  FG| FGA|  FG%| 3P|3PA|  3P%| 2P| 2PA|  2P%| eFG%| FT| FTA|  FT%|ORB|DRB| TRB|AST|STL|BLK|TOV| PF| PTS|\n",
            "+---+--------------------+---+---+---+---+---+----+----+----+-----+---+---+-----+---+----+-----+-----+---+----+-----+---+---+----+---+---+---+---+---+----+\n",
            "|  1|    Precious Achiuwa|  C| 22|TOR| 73| 28|23.6| 3.6| 8.3|0.439|0.8|2.1|0.359|2.9| 6.1|0.468|0.486|1.1| 1.8|0.595|2.0|4.5| 6.5|1.1|0.5|0.6|1.2|2.1| 9.1|\n",
            "|  2|        Steven Adams|  C| 28|MEM| 76| 75|26.3| 2.8| 5.1|0.547|0.0|0.0|  0.0|2.8| 5.0|0.548|0.547|1.4| 2.6|0.543|4.6|5.4|10.0|3.4|0.9|0.8|1.5|2.0| 6.9|\n",
            "|  3|         Bam Adebayo|  C| 24|MIA| 56| 56|32.6| 7.3|13.0|0.557|0.0|0.1|  0.0|7.3|12.9|0.562|0.557|4.6| 6.1|0.753|2.4|7.6|10.1|3.4|1.4|0.8|2.6|3.1|19.1|\n",
            "|  4|        Santi Aldama| PF| 21|MEM| 32|  0|11.3| 1.7| 4.1|0.402|0.2|1.5|0.125|1.5| 2.6| 0.56|0.424|0.6| 1.0|0.625|1.0|1.7| 2.7|0.7|0.2|0.3|0.5|1.1| 4.1|\n",
            "|  5|   LaMarcus Aldridge|  C| 36|BRK| 47| 12|22.3| 5.4| 9.7| 0.55|0.3|1.0|0.304|5.1| 8.8|0.578|0.566|1.9| 2.2|0.873|1.6|3.9| 5.5|0.9|0.3|1.0|0.9|1.7|12.9|\n",
            "|  6|Nickeil Alexander...| SG| 23|TOT| 65| 21|22.6| 3.9|10.5|0.372|1.6|5.2|0.311|2.3| 5.3|0.433|0.449|1.2| 1.7|0.743|0.6|2.3| 2.9|2.4|0.7|0.4|1.4|1.6|10.6|\n",
            "|  6|Nickeil Alexander...| SG| 23|NOP| 50| 19|26.3| 4.7|12.6|0.375|1.9|6.1|0.311|2.8| 6.5|0.434| 0.45|1.4| 1.9|0.722|0.7|2.6| 3.3|2.8|0.8|0.4|1.7|1.8|12.8|\n",
            "|  6|Nickeil Alexander...| SG| 23|UTA| 15|  2| 9.9| 1.1| 3.2|0.333|0.7|2.2|0.303|0.4| 1.0|  0.4|0.438|0.7| 0.8|0.917|0.1|1.5| 1.5|1.1|0.3|0.3|0.5|1.0| 3.5|\n",
            "|  7|       Grayson Allen| SG| 26|MIL| 66| 61|27.3| 3.9| 8.6|0.448|2.4|5.9|0.409|1.5| 2.7|0.533|0.588|1.0| 1.1|0.865|0.5|2.9| 3.4|1.5|0.7|0.3|0.7|1.5|11.1|\n",
            "|  8|       Jarrett Allen|  C| 23|CLE| 56| 56|32.3| 6.6| 9.7|0.677|0.0|0.2|  0.1|6.6| 9.6|0.688|0.678|2.9| 4.2|0.708|3.4|7.3|10.8|1.6|0.8|1.3|1.7|1.7|16.1|\n",
            "|  9|       Jose Alvarado| PG| 23|NOP| 54|  1|15.4| 2.4| 5.4|0.446|0.6|2.0|0.291|1.8| 3.4|0.538|  0.5|0.7| 1.0|0.679|0.5|1.4| 1.9|2.8|1.3|0.1|0.7|1.4| 6.1|\n",
            "| 10|     Justin Anderson| SF| 28|TOT| 16|  6|19.8| 2.3| 5.9|0.379|0.9|3.7|0.254|1.3| 2.3|0.583|0.458|0.9| 1.2|0.789|0.3|2.6| 2.9|2.1|0.5|0.4|0.5|1.4| 6.4|\n",
            "| 10|     Justin Anderson| SF| 28|CLE|  3|  0|15.7| 1.3| 2.7|  0.5|0.7|2.0|0.333|0.7| 0.7|  1.0|0.625|1.0| 1.3| 0.75|0.0|2.0| 2.0|2.0|0.3|0.0|0.7|1.3| 4.3|\n",
            "| 10|     Justin Anderson| SF| 28|IND| 13|  6|20.7| 2.5| 6.7|0.368|1.0|4.1|0.245|1.5| 2.6|0.559|0.443|0.9| 1.2|  0.8|0.3|2.8| 3.1|2.1|0.5|0.5|0.5|1.4| 6.8|\n",
            "| 11|       Kyle Anderson| PF| 28|MEM| 69| 11|21.5| 3.0| 6.8|0.446|0.5|1.6| 0.33|2.5| 5.2|0.481|0.484|1.0| 1.5|0.638|1.0|4.3| 5.3|2.7|1.1|0.7|1.0|1.6| 7.6|\n",
            "| 12|Giannis Antetokou...| PF| 27|MIL| 67| 67|32.9|10.3|18.6|0.553|1.1|3.6|0.293|9.2|15.0|0.616|0.582|8.3|11.4|0.722|2.0|9.6|11.6|5.8|1.1|1.4|3.3|3.2|29.9|\n",
            "| 13|Thanasis Antetoko...| SF| 29|MIL| 48|  6| 9.9| 1.5| 2.7|0.547|0.0|0.3|0.143|1.4| 2.4|0.596|0.555|0.6| 1.0| 0.63|0.8|1.3| 2.1|0.5|0.3|0.3|0.5|1.4| 3.6|\n",
            "| 14|     Carmelo Anthony| PF| 37|LAL| 69|  3|26.0| 4.6|10.5|0.441|2.2|5.8|0.375|2.5| 4.7|0.521|0.544|1.9| 2.3| 0.83|0.9|3.3| 4.2|1.0|0.7|0.8|0.9|2.4|13.3|\n",
            "| 15|        Cole Anthony| PG| 21|ORL| 65| 65|31.7| 5.5|14.0|0.391|2.0|6.0|0.338|3.5| 8.0|0.432|0.464|3.3| 3.9|0.854|0.5|4.9| 5.4|5.7|0.7|0.3|2.6|2.6|16.3|\n",
            "| 16|          OG Anunoby| SF| 24|TOR| 48| 48|36.0| 6.4|14.5|0.443|2.4|6.6|0.363|4.0| 7.9|0.511|0.526|1.9| 2.5|0.754|1.5|4.0| 5.5|2.6|1.5|0.5|1.7|2.7|17.1|\n",
            "+---+--------------------+---+---+---+---+---+----+----+----+-----+---+---+-----+---+----+-----+-----+---+----+-----+---+---+----+---+---+---+---+---+----+\n",
            "only showing top 20 rows\n",
            "\n"
          ]
        }
      ],
      "source": [
        "# Show  second DataFrame\n",
        "data2021.show()"
      ]
    },
    {
      "cell_type": "code",
      "execution_count": null,
      "metadata": {
        "id": "sZemqQpLRTZz"
      },
      "outputs": [],
      "source": [
        "#Convert Spark Dataframe to Pandas Dataframe\n",
        "# 2022\n",
        "nba_2022_2023_df = data2022.toPandas()\n",
        "#2021\n",
        "nba_2021_2022_df = data2021.toPandas()"
      ]
    },
    {
      "cell_type": "code",
      "execution_count": null,
      "metadata": {
        "colab": {
          "base_uri": "https://localhost:8080/",
          "height": 386
        },
        "id": "zgXK2MFoRhfw",
        "outputId": "bdd1dbf4-6991-450d-b13b-4ccd8a17bbab"
      },
      "outputs": [
        {
          "data": {
            "text/html": [
              "\n",
              "  <div id=\"df-33589ca6-8645-40ba-87fc-a38e2b2e6646\">\n",
              "    <div class=\"colab-df-container\">\n",
              "      <div>\n",
              "<style scoped>\n",
              "    .dataframe tbody tr th:only-of-type {\n",
              "        vertical-align: middle;\n",
              "    }\n",
              "\n",
              "    .dataframe tbody tr th {\n",
              "        vertical-align: top;\n",
              "    }\n",
              "\n",
              "    .dataframe thead th {\n",
              "        text-align: right;\n",
              "    }\n",
              "</style>\n",
              "<table border=\"1\" class=\"dataframe\">\n",
              "  <thead>\n",
              "    <tr style=\"text-align: right;\">\n",
              "      <th></th>\n",
              "      <th>Rk</th>\n",
              "      <th>Player</th>\n",
              "      <th>Pos</th>\n",
              "      <th>Age</th>\n",
              "      <th>Tm</th>\n",
              "      <th>G</th>\n",
              "      <th>GS</th>\n",
              "      <th>MP</th>\n",
              "      <th>FG</th>\n",
              "      <th>FGA</th>\n",
              "      <th>...</th>\n",
              "      <th>FT%</th>\n",
              "      <th>ORB</th>\n",
              "      <th>DRB</th>\n",
              "      <th>TRB</th>\n",
              "      <th>AST</th>\n",
              "      <th>STL</th>\n",
              "      <th>BLK</th>\n",
              "      <th>TOV</th>\n",
              "      <th>PF</th>\n",
              "      <th>PTS</th>\n",
              "    </tr>\n",
              "  </thead>\n",
              "  <tbody>\n",
              "    <tr>\n",
              "      <th>0</th>\n",
              "      <td>1</td>\n",
              "      <td>Precious Achiuwa</td>\n",
              "      <td>C</td>\n",
              "      <td>22</td>\n",
              "      <td>TOR</td>\n",
              "      <td>73</td>\n",
              "      <td>28</td>\n",
              "      <td>23.6</td>\n",
              "      <td>3.6</td>\n",
              "      <td>8.3</td>\n",
              "      <td>...</td>\n",
              "      <td>0.595</td>\n",
              "      <td>2.0</td>\n",
              "      <td>4.5</td>\n",
              "      <td>6.5</td>\n",
              "      <td>1.1</td>\n",
              "      <td>0.5</td>\n",
              "      <td>0.6</td>\n",
              "      <td>1.2</td>\n",
              "      <td>2.1</td>\n",
              "      <td>9.1</td>\n",
              "    </tr>\n",
              "    <tr>\n",
              "      <th>1</th>\n",
              "      <td>2</td>\n",
              "      <td>Steven Adams</td>\n",
              "      <td>C</td>\n",
              "      <td>28</td>\n",
              "      <td>MEM</td>\n",
              "      <td>76</td>\n",
              "      <td>75</td>\n",
              "      <td>26.3</td>\n",
              "      <td>2.8</td>\n",
              "      <td>5.1</td>\n",
              "      <td>...</td>\n",
              "      <td>0.543</td>\n",
              "      <td>4.6</td>\n",
              "      <td>5.4</td>\n",
              "      <td>10.0</td>\n",
              "      <td>3.4</td>\n",
              "      <td>0.9</td>\n",
              "      <td>0.8</td>\n",
              "      <td>1.5</td>\n",
              "      <td>2.0</td>\n",
              "      <td>6.9</td>\n",
              "    </tr>\n",
              "    <tr>\n",
              "      <th>2</th>\n",
              "      <td>3</td>\n",
              "      <td>Bam Adebayo</td>\n",
              "      <td>C</td>\n",
              "      <td>24</td>\n",
              "      <td>MIA</td>\n",
              "      <td>56</td>\n",
              "      <td>56</td>\n",
              "      <td>32.6</td>\n",
              "      <td>7.3</td>\n",
              "      <td>13.0</td>\n",
              "      <td>...</td>\n",
              "      <td>0.753</td>\n",
              "      <td>2.4</td>\n",
              "      <td>7.6</td>\n",
              "      <td>10.1</td>\n",
              "      <td>3.4</td>\n",
              "      <td>1.4</td>\n",
              "      <td>0.8</td>\n",
              "      <td>2.6</td>\n",
              "      <td>3.1</td>\n",
              "      <td>19.1</td>\n",
              "    </tr>\n",
              "    <tr>\n",
              "      <th>3</th>\n",
              "      <td>4</td>\n",
              "      <td>Santi Aldama</td>\n",
              "      <td>PF</td>\n",
              "      <td>21</td>\n",
              "      <td>MEM</td>\n",
              "      <td>32</td>\n",
              "      <td>0</td>\n",
              "      <td>11.3</td>\n",
              "      <td>1.7</td>\n",
              "      <td>4.1</td>\n",
              "      <td>...</td>\n",
              "      <td>0.625</td>\n",
              "      <td>1.0</td>\n",
              "      <td>1.7</td>\n",
              "      <td>2.7</td>\n",
              "      <td>0.7</td>\n",
              "      <td>0.2</td>\n",
              "      <td>0.3</td>\n",
              "      <td>0.5</td>\n",
              "      <td>1.1</td>\n",
              "      <td>4.1</td>\n",
              "    </tr>\n",
              "    <tr>\n",
              "      <th>4</th>\n",
              "      <td>5</td>\n",
              "      <td>LaMarcus Aldridge</td>\n",
              "      <td>C</td>\n",
              "      <td>36</td>\n",
              "      <td>BRK</td>\n",
              "      <td>47</td>\n",
              "      <td>12</td>\n",
              "      <td>22.3</td>\n",
              "      <td>5.4</td>\n",
              "      <td>9.7</td>\n",
              "      <td>...</td>\n",
              "      <td>0.873</td>\n",
              "      <td>1.6</td>\n",
              "      <td>3.9</td>\n",
              "      <td>5.5</td>\n",
              "      <td>0.9</td>\n",
              "      <td>0.3</td>\n",
              "      <td>1.0</td>\n",
              "      <td>0.9</td>\n",
              "      <td>1.7</td>\n",
              "      <td>12.9</td>\n",
              "    </tr>\n",
              "  </tbody>\n",
              "</table>\n",
              "<p>5 rows × 30 columns</p>\n",
              "</div>\n",
              "      <button class=\"colab-df-convert\" onclick=\"convertToInteractive('df-33589ca6-8645-40ba-87fc-a38e2b2e6646')\"\n",
              "              title=\"Convert this dataframe to an interactive table.\"\n",
              "              style=\"display:none;\">\n",
              "        \n",
              "  <svg xmlns=\"http://www.w3.org/2000/svg\" height=\"24px\"viewBox=\"0 0 24 24\"\n",
              "       width=\"24px\">\n",
              "    <path d=\"M0 0h24v24H0V0z\" fill=\"none\"/>\n",
              "    <path d=\"M18.56 5.44l.94 2.06.94-2.06 2.06-.94-2.06-.94-.94-2.06-.94 2.06-2.06.94zm-11 1L8.5 8.5l.94-2.06 2.06-.94-2.06-.94L8.5 2.5l-.94 2.06-2.06.94zm10 10l.94 2.06.94-2.06 2.06-.94-2.06-.94-.94-2.06-.94 2.06-2.06.94z\"/><path d=\"M17.41 7.96l-1.37-1.37c-.4-.4-.92-.59-1.43-.59-.52 0-1.04.2-1.43.59L10.3 9.45l-7.72 7.72c-.78.78-.78 2.05 0 2.83L4 21.41c.39.39.9.59 1.41.59.51 0 1.02-.2 1.41-.59l7.78-7.78 2.81-2.81c.8-.78.8-2.07 0-2.86zM5.41 20L4 18.59l7.72-7.72 1.47 1.35L5.41 20z\"/>\n",
              "  </svg>\n",
              "      </button>\n",
              "      \n",
              "  <style>\n",
              "    .colab-df-container {\n",
              "      display:flex;\n",
              "      flex-wrap:wrap;\n",
              "      gap: 12px;\n",
              "    }\n",
              "\n",
              "    .colab-df-convert {\n",
              "      background-color: #E8F0FE;\n",
              "      border: none;\n",
              "      border-radius: 50%;\n",
              "      cursor: pointer;\n",
              "      display: none;\n",
              "      fill: #1967D2;\n",
              "      height: 32px;\n",
              "      padding: 0 0 0 0;\n",
              "      width: 32px;\n",
              "    }\n",
              "\n",
              "    .colab-df-convert:hover {\n",
              "      background-color: #E2EBFA;\n",
              "      box-shadow: 0px 1px 2px rgba(60, 64, 67, 0.3), 0px 1px 3px 1px rgba(60, 64, 67, 0.15);\n",
              "      fill: #174EA6;\n",
              "    }\n",
              "\n",
              "    [theme=dark] .colab-df-convert {\n",
              "      background-color: #3B4455;\n",
              "      fill: #D2E3FC;\n",
              "    }\n",
              "\n",
              "    [theme=dark] .colab-df-convert:hover {\n",
              "      background-color: #434B5C;\n",
              "      box-shadow: 0px 1px 3px 1px rgba(0, 0, 0, 0.15);\n",
              "      filter: drop-shadow(0px 1px 2px rgba(0, 0, 0, 0.3));\n",
              "      fill: #FFFFFF;\n",
              "    }\n",
              "  </style>\n",
              "\n",
              "      <script>\n",
              "        const buttonEl =\n",
              "          document.querySelector('#df-33589ca6-8645-40ba-87fc-a38e2b2e6646 button.colab-df-convert');\n",
              "        buttonEl.style.display =\n",
              "          google.colab.kernel.accessAllowed ? 'block' : 'none';\n",
              "\n",
              "        async function convertToInteractive(key) {\n",
              "          const element = document.querySelector('#df-33589ca6-8645-40ba-87fc-a38e2b2e6646');\n",
              "          const dataTable =\n",
              "            await google.colab.kernel.invokeFunction('convertToInteractive',\n",
              "                                                     [key], {});\n",
              "          if (!dataTable) return;\n",
              "\n",
              "          const docLinkHtml = 'Like what you see? Visit the ' +\n",
              "            '<a target=\"_blank\" href=https://colab.research.google.com/notebooks/data_table.ipynb>data table notebook</a>'\n",
              "            + ' to learn more about interactive tables.';\n",
              "          element.innerHTML = '';\n",
              "          dataTable['output_type'] = 'display_data';\n",
              "          await google.colab.output.renderOutput(dataTable, element);\n",
              "          const docLink = document.createElement('div');\n",
              "          docLink.innerHTML = docLinkHtml;\n",
              "          element.appendChild(docLink);\n",
              "        }\n",
              "      </script>\n",
              "    </div>\n",
              "  </div>\n",
              "  "
            ],
            "text/plain": [
              "   Rk             Player Pos  Age   Tm   G  GS    MP   FG   FGA  ...    FT%  \\\n",
              "0   1   Precious Achiuwa   C   22  TOR  73  28  23.6  3.6   8.3  ...  0.595   \n",
              "1   2       Steven Adams   C   28  MEM  76  75  26.3  2.8   5.1  ...  0.543   \n",
              "2   3        Bam Adebayo   C   24  MIA  56  56  32.6  7.3  13.0  ...  0.753   \n",
              "3   4       Santi Aldama  PF   21  MEM  32   0  11.3  1.7   4.1  ...  0.625   \n",
              "4   5  LaMarcus Aldridge   C   36  BRK  47  12  22.3  5.4   9.7  ...  0.873   \n",
              "\n",
              "   ORB  DRB   TRB  AST  STL  BLK  TOV   PF   PTS  \n",
              "0  2.0  4.5   6.5  1.1  0.5  0.6  1.2  2.1   9.1  \n",
              "1  4.6  5.4  10.0  3.4  0.9  0.8  1.5  2.0   6.9  \n",
              "2  2.4  7.6  10.1  3.4  1.4  0.8  2.6  3.1  19.1  \n",
              "3  1.0  1.7   2.7  0.7  0.2  0.3  0.5  1.1   4.1  \n",
              "4  1.6  3.9   5.5  0.9  0.3  1.0  0.9  1.7  12.9  \n",
              "\n",
              "[5 rows x 30 columns]"
            ]
          },
          "execution_count": 9,
          "metadata": {},
          "output_type": "execute_result"
        }
      ],
      "source": [
        "# display head of first dataframe\n",
        "nba_2021_2022_df.head()"
      ]
    },
    {
      "cell_type": "code",
      "execution_count": null,
      "metadata": {
        "colab": {
          "base_uri": "https://localhost:8080/",
          "height": 386
        },
        "id": "mzYnTWRaRik2",
        "outputId": "fe8a51c1-837e-4c0f-aba7-3dbc1b1f5077"
      },
      "outputs": [
        {
          "data": {
            "text/html": [
              "\n",
              "  <div id=\"df-0b371a28-8077-46b1-8852-4f2d8030c544\">\n",
              "    <div class=\"colab-df-container\">\n",
              "      <div>\n",
              "<style scoped>\n",
              "    .dataframe tbody tr th:only-of-type {\n",
              "        vertical-align: middle;\n",
              "    }\n",
              "\n",
              "    .dataframe tbody tr th {\n",
              "        vertical-align: top;\n",
              "    }\n",
              "\n",
              "    .dataframe thead th {\n",
              "        text-align: right;\n",
              "    }\n",
              "</style>\n",
              "<table border=\"1\" class=\"dataframe\">\n",
              "  <thead>\n",
              "    <tr style=\"text-align: right;\">\n",
              "      <th></th>\n",
              "      <th>Rk</th>\n",
              "      <th>Player</th>\n",
              "      <th>Pos</th>\n",
              "      <th>Age</th>\n",
              "      <th>Tm</th>\n",
              "      <th>G</th>\n",
              "      <th>GS</th>\n",
              "      <th>MP</th>\n",
              "      <th>FG</th>\n",
              "      <th>FGA</th>\n",
              "      <th>...</th>\n",
              "      <th>FT%</th>\n",
              "      <th>ORB</th>\n",
              "      <th>DRB</th>\n",
              "      <th>TRB</th>\n",
              "      <th>AST</th>\n",
              "      <th>STL</th>\n",
              "      <th>BLK</th>\n",
              "      <th>TOV</th>\n",
              "      <th>PF</th>\n",
              "      <th>PTS</th>\n",
              "    </tr>\n",
              "  </thead>\n",
              "  <tbody>\n",
              "    <tr>\n",
              "      <th>0</th>\n",
              "      <td>1</td>\n",
              "      <td>Precious Achiuwa</td>\n",
              "      <td>C</td>\n",
              "      <td>23</td>\n",
              "      <td>TOR</td>\n",
              "      <td>55</td>\n",
              "      <td>12</td>\n",
              "      <td>20.7</td>\n",
              "      <td>3.6</td>\n",
              "      <td>7.3</td>\n",
              "      <td>...</td>\n",
              "      <td>0.702</td>\n",
              "      <td>1.8</td>\n",
              "      <td>4.1</td>\n",
              "      <td>6.0</td>\n",
              "      <td>0.9</td>\n",
              "      <td>0.6</td>\n",
              "      <td>0.5</td>\n",
              "      <td>1.1</td>\n",
              "      <td>1.9</td>\n",
              "      <td>9.2</td>\n",
              "    </tr>\n",
              "    <tr>\n",
              "      <th>1</th>\n",
              "      <td>2</td>\n",
              "      <td>Steven Adams</td>\n",
              "      <td>C</td>\n",
              "      <td>29</td>\n",
              "      <td>MEM</td>\n",
              "      <td>42</td>\n",
              "      <td>42</td>\n",
              "      <td>27.0</td>\n",
              "      <td>3.7</td>\n",
              "      <td>6.3</td>\n",
              "      <td>...</td>\n",
              "      <td>0.364</td>\n",
              "      <td>5.1</td>\n",
              "      <td>6.5</td>\n",
              "      <td>11.5</td>\n",
              "      <td>2.3</td>\n",
              "      <td>0.9</td>\n",
              "      <td>1.1</td>\n",
              "      <td>1.9</td>\n",
              "      <td>2.3</td>\n",
              "      <td>8.6</td>\n",
              "    </tr>\n",
              "    <tr>\n",
              "      <th>2</th>\n",
              "      <td>3</td>\n",
              "      <td>Bam Adebayo</td>\n",
              "      <td>C</td>\n",
              "      <td>25</td>\n",
              "      <td>MIA</td>\n",
              "      <td>75</td>\n",
              "      <td>75</td>\n",
              "      <td>34.6</td>\n",
              "      <td>8.0</td>\n",
              "      <td>14.9</td>\n",
              "      <td>...</td>\n",
              "      <td>0.806</td>\n",
              "      <td>2.5</td>\n",
              "      <td>6.7</td>\n",
              "      <td>9.2</td>\n",
              "      <td>3.2</td>\n",
              "      <td>1.2</td>\n",
              "      <td>0.8</td>\n",
              "      <td>2.5</td>\n",
              "      <td>2.8</td>\n",
              "      <td>20.4</td>\n",
              "    </tr>\n",
              "    <tr>\n",
              "      <th>3</th>\n",
              "      <td>4</td>\n",
              "      <td>Ochai Agbaji</td>\n",
              "      <td>SG</td>\n",
              "      <td>22</td>\n",
              "      <td>UTA</td>\n",
              "      <td>59</td>\n",
              "      <td>22</td>\n",
              "      <td>20.5</td>\n",
              "      <td>2.8</td>\n",
              "      <td>6.5</td>\n",
              "      <td>...</td>\n",
              "      <td>0.812</td>\n",
              "      <td>0.7</td>\n",
              "      <td>1.3</td>\n",
              "      <td>2.1</td>\n",
              "      <td>1.1</td>\n",
              "      <td>0.3</td>\n",
              "      <td>0.3</td>\n",
              "      <td>0.7</td>\n",
              "      <td>1.7</td>\n",
              "      <td>7.9</td>\n",
              "    </tr>\n",
              "    <tr>\n",
              "      <th>4</th>\n",
              "      <td>5</td>\n",
              "      <td>Santi Aldama</td>\n",
              "      <td>PF</td>\n",
              "      <td>22</td>\n",
              "      <td>MEM</td>\n",
              "      <td>77</td>\n",
              "      <td>20</td>\n",
              "      <td>21.8</td>\n",
              "      <td>3.2</td>\n",
              "      <td>6.8</td>\n",
              "      <td>...</td>\n",
              "      <td>0.750</td>\n",
              "      <td>1.1</td>\n",
              "      <td>3.7</td>\n",
              "      <td>4.8</td>\n",
              "      <td>1.3</td>\n",
              "      <td>0.6</td>\n",
              "      <td>0.6</td>\n",
              "      <td>0.8</td>\n",
              "      <td>1.9</td>\n",
              "      <td>9.0</td>\n",
              "    </tr>\n",
              "  </tbody>\n",
              "</table>\n",
              "<p>5 rows × 30 columns</p>\n",
              "</div>\n",
              "      <button class=\"colab-df-convert\" onclick=\"convertToInteractive('df-0b371a28-8077-46b1-8852-4f2d8030c544')\"\n",
              "              title=\"Convert this dataframe to an interactive table.\"\n",
              "              style=\"display:none;\">\n",
              "        \n",
              "  <svg xmlns=\"http://www.w3.org/2000/svg\" height=\"24px\"viewBox=\"0 0 24 24\"\n",
              "       width=\"24px\">\n",
              "    <path d=\"M0 0h24v24H0V0z\" fill=\"none\"/>\n",
              "    <path d=\"M18.56 5.44l.94 2.06.94-2.06 2.06-.94-2.06-.94-.94-2.06-.94 2.06-2.06.94zm-11 1L8.5 8.5l.94-2.06 2.06-.94-2.06-.94L8.5 2.5l-.94 2.06-2.06.94zm10 10l.94 2.06.94-2.06 2.06-.94-2.06-.94-.94-2.06-.94 2.06-2.06.94z\"/><path d=\"M17.41 7.96l-1.37-1.37c-.4-.4-.92-.59-1.43-.59-.52 0-1.04.2-1.43.59L10.3 9.45l-7.72 7.72c-.78.78-.78 2.05 0 2.83L4 21.41c.39.39.9.59 1.41.59.51 0 1.02-.2 1.41-.59l7.78-7.78 2.81-2.81c.8-.78.8-2.07 0-2.86zM5.41 20L4 18.59l7.72-7.72 1.47 1.35L5.41 20z\"/>\n",
              "  </svg>\n",
              "      </button>\n",
              "      \n",
              "  <style>\n",
              "    .colab-df-container {\n",
              "      display:flex;\n",
              "      flex-wrap:wrap;\n",
              "      gap: 12px;\n",
              "    }\n",
              "\n",
              "    .colab-df-convert {\n",
              "      background-color: #E8F0FE;\n",
              "      border: none;\n",
              "      border-radius: 50%;\n",
              "      cursor: pointer;\n",
              "      display: none;\n",
              "      fill: #1967D2;\n",
              "      height: 32px;\n",
              "      padding: 0 0 0 0;\n",
              "      width: 32px;\n",
              "    }\n",
              "\n",
              "    .colab-df-convert:hover {\n",
              "      background-color: #E2EBFA;\n",
              "      box-shadow: 0px 1px 2px rgba(60, 64, 67, 0.3), 0px 1px 3px 1px rgba(60, 64, 67, 0.15);\n",
              "      fill: #174EA6;\n",
              "    }\n",
              "\n",
              "    [theme=dark] .colab-df-convert {\n",
              "      background-color: #3B4455;\n",
              "      fill: #D2E3FC;\n",
              "    }\n",
              "\n",
              "    [theme=dark] .colab-df-convert:hover {\n",
              "      background-color: #434B5C;\n",
              "      box-shadow: 0px 1px 3px 1px rgba(0, 0, 0, 0.15);\n",
              "      filter: drop-shadow(0px 1px 2px rgba(0, 0, 0, 0.3));\n",
              "      fill: #FFFFFF;\n",
              "    }\n",
              "  </style>\n",
              "\n",
              "      <script>\n",
              "        const buttonEl =\n",
              "          document.querySelector('#df-0b371a28-8077-46b1-8852-4f2d8030c544 button.colab-df-convert');\n",
              "        buttonEl.style.display =\n",
              "          google.colab.kernel.accessAllowed ? 'block' : 'none';\n",
              "\n",
              "        async function convertToInteractive(key) {\n",
              "          const element = document.querySelector('#df-0b371a28-8077-46b1-8852-4f2d8030c544');\n",
              "          const dataTable =\n",
              "            await google.colab.kernel.invokeFunction('convertToInteractive',\n",
              "                                                     [key], {});\n",
              "          if (!dataTable) return;\n",
              "\n",
              "          const docLinkHtml = 'Like what you see? Visit the ' +\n",
              "            '<a target=\"_blank\" href=https://colab.research.google.com/notebooks/data_table.ipynb>data table notebook</a>'\n",
              "            + ' to learn more about interactive tables.';\n",
              "          element.innerHTML = '';\n",
              "          dataTable['output_type'] = 'display_data';\n",
              "          await google.colab.output.renderOutput(dataTable, element);\n",
              "          const docLink = document.createElement('div');\n",
              "          docLink.innerHTML = docLinkHtml;\n",
              "          element.appendChild(docLink);\n",
              "        }\n",
              "      </script>\n",
              "    </div>\n",
              "  </div>\n",
              "  "
            ],
            "text/plain": [
              "   Rk            Player Pos  Age   Tm   G  GS    MP   FG   FGA  ...    FT%  \\\n",
              "0   1  Precious Achiuwa   C   23  TOR  55  12  20.7  3.6   7.3  ...  0.702   \n",
              "1   2      Steven Adams   C   29  MEM  42  42  27.0  3.7   6.3  ...  0.364   \n",
              "2   3       Bam Adebayo   C   25  MIA  75  75  34.6  8.0  14.9  ...  0.806   \n",
              "3   4      Ochai Agbaji  SG   22  UTA  59  22  20.5  2.8   6.5  ...  0.812   \n",
              "4   5      Santi Aldama  PF   22  MEM  77  20  21.8  3.2   6.8  ...  0.750   \n",
              "\n",
              "   ORB  DRB   TRB  AST  STL  BLK  TOV   PF   PTS  \n",
              "0  1.8  4.1   6.0  0.9  0.6  0.5  1.1  1.9   9.2  \n",
              "1  5.1  6.5  11.5  2.3  0.9  1.1  1.9  2.3   8.6  \n",
              "2  2.5  6.7   9.2  3.2  1.2  0.8  2.5  2.8  20.4  \n",
              "3  0.7  1.3   2.1  1.1  0.3  0.3  0.7  1.7   7.9  \n",
              "4  1.1  3.7   4.8  1.3  0.6  0.6  0.8  1.9   9.0  \n",
              "\n",
              "[5 rows x 30 columns]"
            ]
          },
          "execution_count": 10,
          "metadata": {},
          "output_type": "execute_result"
        }
      ],
      "source": [
        "# display head of second dataframe\n",
        "nba_2022_2023_df.head()"
      ]
    },
    {
      "attachments": {},
      "cell_type": "markdown",
      "metadata": {
        "id": "drLs-0aLHSIp"
      },
      "source": [
        "# Data Cleaning"
      ]
    },
    {
      "cell_type": "code",
      "execution_count": null,
      "metadata": {
        "id": "iAthaCwFRmbe"
      },
      "outputs": [],
      "source": [
        "# Merge both dataframe using outer join\n",
        "joined_data = nba_2022_2023_df.merge(nba_2021_2022_df, on='Player', how='outer')"
      ]
    },
    {
      "cell_type": "code",
      "execution_count": null,
      "metadata": {
        "colab": {
          "base_uri": "https://localhost:8080/",
          "height": 386
        },
        "id": "_E90Xu_Wap5u",
        "outputId": "f50651d4-5f3f-46af-b982-7996b70563fc"
      },
      "outputs": [
        {
          "data": {
            "text/html": [
              "\n",
              "  <div id=\"df-ceb651e3-86a2-418c-9cde-195db7ba1a36\">\n",
              "    <div class=\"colab-df-container\">\n",
              "      <div>\n",
              "<style scoped>\n",
              "    .dataframe tbody tr th:only-of-type {\n",
              "        vertical-align: middle;\n",
              "    }\n",
              "\n",
              "    .dataframe tbody tr th {\n",
              "        vertical-align: top;\n",
              "    }\n",
              "\n",
              "    .dataframe thead th {\n",
              "        text-align: right;\n",
              "    }\n",
              "</style>\n",
              "<table border=\"1\" class=\"dataframe\">\n",
              "  <thead>\n",
              "    <tr style=\"text-align: right;\">\n",
              "      <th></th>\n",
              "      <th>Rk_x</th>\n",
              "      <th>Player</th>\n",
              "      <th>Pos_x</th>\n",
              "      <th>Age_x</th>\n",
              "      <th>Tm_x</th>\n",
              "      <th>G_x</th>\n",
              "      <th>GS_x</th>\n",
              "      <th>MP_x</th>\n",
              "      <th>FG_x</th>\n",
              "      <th>FGA_x</th>\n",
              "      <th>...</th>\n",
              "      <th>FT%_y</th>\n",
              "      <th>ORB_y</th>\n",
              "      <th>DRB_y</th>\n",
              "      <th>TRB_y</th>\n",
              "      <th>AST_y</th>\n",
              "      <th>STL_y</th>\n",
              "      <th>BLK_y</th>\n",
              "      <th>TOV_y</th>\n",
              "      <th>PF_y</th>\n",
              "      <th>PTS_y</th>\n",
              "    </tr>\n",
              "  </thead>\n",
              "  <tbody>\n",
              "    <tr>\n",
              "      <th>0</th>\n",
              "      <td>1.0</td>\n",
              "      <td>Precious Achiuwa</td>\n",
              "      <td>C</td>\n",
              "      <td>23.0</td>\n",
              "      <td>TOR</td>\n",
              "      <td>55.0</td>\n",
              "      <td>12.0</td>\n",
              "      <td>20.7</td>\n",
              "      <td>3.6</td>\n",
              "      <td>7.3</td>\n",
              "      <td>...</td>\n",
              "      <td>0.595</td>\n",
              "      <td>2.0</td>\n",
              "      <td>4.5</td>\n",
              "      <td>6.5</td>\n",
              "      <td>1.1</td>\n",
              "      <td>0.5</td>\n",
              "      <td>0.6</td>\n",
              "      <td>1.2</td>\n",
              "      <td>2.1</td>\n",
              "      <td>9.1</td>\n",
              "    </tr>\n",
              "    <tr>\n",
              "      <th>1</th>\n",
              "      <td>2.0</td>\n",
              "      <td>Steven Adams</td>\n",
              "      <td>C</td>\n",
              "      <td>29.0</td>\n",
              "      <td>MEM</td>\n",
              "      <td>42.0</td>\n",
              "      <td>42.0</td>\n",
              "      <td>27.0</td>\n",
              "      <td>3.7</td>\n",
              "      <td>6.3</td>\n",
              "      <td>...</td>\n",
              "      <td>0.543</td>\n",
              "      <td>4.6</td>\n",
              "      <td>5.4</td>\n",
              "      <td>10.0</td>\n",
              "      <td>3.4</td>\n",
              "      <td>0.9</td>\n",
              "      <td>0.8</td>\n",
              "      <td>1.5</td>\n",
              "      <td>2.0</td>\n",
              "      <td>6.9</td>\n",
              "    </tr>\n",
              "    <tr>\n",
              "      <th>2</th>\n",
              "      <td>3.0</td>\n",
              "      <td>Bam Adebayo</td>\n",
              "      <td>C</td>\n",
              "      <td>25.0</td>\n",
              "      <td>MIA</td>\n",
              "      <td>75.0</td>\n",
              "      <td>75.0</td>\n",
              "      <td>34.6</td>\n",
              "      <td>8.0</td>\n",
              "      <td>14.9</td>\n",
              "      <td>...</td>\n",
              "      <td>0.753</td>\n",
              "      <td>2.4</td>\n",
              "      <td>7.6</td>\n",
              "      <td>10.1</td>\n",
              "      <td>3.4</td>\n",
              "      <td>1.4</td>\n",
              "      <td>0.8</td>\n",
              "      <td>2.6</td>\n",
              "      <td>3.1</td>\n",
              "      <td>19.1</td>\n",
              "    </tr>\n",
              "    <tr>\n",
              "      <th>3</th>\n",
              "      <td>4.0</td>\n",
              "      <td>Ochai Agbaji</td>\n",
              "      <td>SG</td>\n",
              "      <td>22.0</td>\n",
              "      <td>UTA</td>\n",
              "      <td>59.0</td>\n",
              "      <td>22.0</td>\n",
              "      <td>20.5</td>\n",
              "      <td>2.8</td>\n",
              "      <td>6.5</td>\n",
              "      <td>...</td>\n",
              "      <td>NaN</td>\n",
              "      <td>NaN</td>\n",
              "      <td>NaN</td>\n",
              "      <td>NaN</td>\n",
              "      <td>NaN</td>\n",
              "      <td>NaN</td>\n",
              "      <td>NaN</td>\n",
              "      <td>NaN</td>\n",
              "      <td>NaN</td>\n",
              "      <td>NaN</td>\n",
              "    </tr>\n",
              "    <tr>\n",
              "      <th>4</th>\n",
              "      <td>5.0</td>\n",
              "      <td>Santi Aldama</td>\n",
              "      <td>PF</td>\n",
              "      <td>22.0</td>\n",
              "      <td>MEM</td>\n",
              "      <td>77.0</td>\n",
              "      <td>20.0</td>\n",
              "      <td>21.8</td>\n",
              "      <td>3.2</td>\n",
              "      <td>6.8</td>\n",
              "      <td>...</td>\n",
              "      <td>0.625</td>\n",
              "      <td>1.0</td>\n",
              "      <td>1.7</td>\n",
              "      <td>2.7</td>\n",
              "      <td>0.7</td>\n",
              "      <td>0.2</td>\n",
              "      <td>0.3</td>\n",
              "      <td>0.5</td>\n",
              "      <td>1.1</td>\n",
              "      <td>4.1</td>\n",
              "    </tr>\n",
              "  </tbody>\n",
              "</table>\n",
              "<p>5 rows × 59 columns</p>\n",
              "</div>\n",
              "      <button class=\"colab-df-convert\" onclick=\"convertToInteractive('df-ceb651e3-86a2-418c-9cde-195db7ba1a36')\"\n",
              "              title=\"Convert this dataframe to an interactive table.\"\n",
              "              style=\"display:none;\">\n",
              "        \n",
              "  <svg xmlns=\"http://www.w3.org/2000/svg\" height=\"24px\"viewBox=\"0 0 24 24\"\n",
              "       width=\"24px\">\n",
              "    <path d=\"M0 0h24v24H0V0z\" fill=\"none\"/>\n",
              "    <path d=\"M18.56 5.44l.94 2.06.94-2.06 2.06-.94-2.06-.94-.94-2.06-.94 2.06-2.06.94zm-11 1L8.5 8.5l.94-2.06 2.06-.94-2.06-.94L8.5 2.5l-.94 2.06-2.06.94zm10 10l.94 2.06.94-2.06 2.06-.94-2.06-.94-.94-2.06-.94 2.06-2.06.94z\"/><path d=\"M17.41 7.96l-1.37-1.37c-.4-.4-.92-.59-1.43-.59-.52 0-1.04.2-1.43.59L10.3 9.45l-7.72 7.72c-.78.78-.78 2.05 0 2.83L4 21.41c.39.39.9.59 1.41.59.51 0 1.02-.2 1.41-.59l7.78-7.78 2.81-2.81c.8-.78.8-2.07 0-2.86zM5.41 20L4 18.59l7.72-7.72 1.47 1.35L5.41 20z\"/>\n",
              "  </svg>\n",
              "      </button>\n",
              "      \n",
              "  <style>\n",
              "    .colab-df-container {\n",
              "      display:flex;\n",
              "      flex-wrap:wrap;\n",
              "      gap: 12px;\n",
              "    }\n",
              "\n",
              "    .colab-df-convert {\n",
              "      background-color: #E8F0FE;\n",
              "      border: none;\n",
              "      border-radius: 50%;\n",
              "      cursor: pointer;\n",
              "      display: none;\n",
              "      fill: #1967D2;\n",
              "      height: 32px;\n",
              "      padding: 0 0 0 0;\n",
              "      width: 32px;\n",
              "    }\n",
              "\n",
              "    .colab-df-convert:hover {\n",
              "      background-color: #E2EBFA;\n",
              "      box-shadow: 0px 1px 2px rgba(60, 64, 67, 0.3), 0px 1px 3px 1px rgba(60, 64, 67, 0.15);\n",
              "      fill: #174EA6;\n",
              "    }\n",
              "\n",
              "    [theme=dark] .colab-df-convert {\n",
              "      background-color: #3B4455;\n",
              "      fill: #D2E3FC;\n",
              "    }\n",
              "\n",
              "    [theme=dark] .colab-df-convert:hover {\n",
              "      background-color: #434B5C;\n",
              "      box-shadow: 0px 1px 3px 1px rgba(0, 0, 0, 0.15);\n",
              "      filter: drop-shadow(0px 1px 2px rgba(0, 0, 0, 0.3));\n",
              "      fill: #FFFFFF;\n",
              "    }\n",
              "  </style>\n",
              "\n",
              "      <script>\n",
              "        const buttonEl =\n",
              "          document.querySelector('#df-ceb651e3-86a2-418c-9cde-195db7ba1a36 button.colab-df-convert');\n",
              "        buttonEl.style.display =\n",
              "          google.colab.kernel.accessAllowed ? 'block' : 'none';\n",
              "\n",
              "        async function convertToInteractive(key) {\n",
              "          const element = document.querySelector('#df-ceb651e3-86a2-418c-9cde-195db7ba1a36');\n",
              "          const dataTable =\n",
              "            await google.colab.kernel.invokeFunction('convertToInteractive',\n",
              "                                                     [key], {});\n",
              "          if (!dataTable) return;\n",
              "\n",
              "          const docLinkHtml = 'Like what you see? Visit the ' +\n",
              "            '<a target=\"_blank\" href=https://colab.research.google.com/notebooks/data_table.ipynb>data table notebook</a>'\n",
              "            + ' to learn more about interactive tables.';\n",
              "          element.innerHTML = '';\n",
              "          dataTable['output_type'] = 'display_data';\n",
              "          await google.colab.output.renderOutput(dataTable, element);\n",
              "          const docLink = document.createElement('div');\n",
              "          docLink.innerHTML = docLinkHtml;\n",
              "          element.appendChild(docLink);\n",
              "        }\n",
              "      </script>\n",
              "    </div>\n",
              "  </div>\n",
              "  "
            ],
            "text/plain": [
              "   Rk_x            Player Pos_x  Age_x Tm_x   G_x  GS_x  MP_x  FG_x  FGA_x  \\\n",
              "0   1.0  Precious Achiuwa     C   23.0  TOR  55.0  12.0  20.7   3.6    7.3   \n",
              "1   2.0      Steven Adams     C   29.0  MEM  42.0  42.0  27.0   3.7    6.3   \n",
              "2   3.0       Bam Adebayo     C   25.0  MIA  75.0  75.0  34.6   8.0   14.9   \n",
              "3   4.0      Ochai Agbaji    SG   22.0  UTA  59.0  22.0  20.5   2.8    6.5   \n",
              "4   5.0      Santi Aldama    PF   22.0  MEM  77.0  20.0  21.8   3.2    6.8   \n",
              "\n",
              "   ...  FT%_y  ORB_y  DRB_y  TRB_y  AST_y  STL_y  BLK_y  TOV_y  PF_y  PTS_y  \n",
              "0  ...  0.595    2.0    4.5    6.5    1.1    0.5    0.6    1.2   2.1    9.1  \n",
              "1  ...  0.543    4.6    5.4   10.0    3.4    0.9    0.8    1.5   2.0    6.9  \n",
              "2  ...  0.753    2.4    7.6   10.1    3.4    1.4    0.8    2.6   3.1   19.1  \n",
              "3  ...    NaN    NaN    NaN    NaN    NaN    NaN    NaN    NaN   NaN    NaN  \n",
              "4  ...  0.625    1.0    1.7    2.7    0.7    0.2    0.3    0.5   1.1    4.1  \n",
              "\n",
              "[5 rows x 59 columns]"
            ]
          },
          "execution_count": 12,
          "metadata": {},
          "output_type": "execute_result"
        }
      ],
      "source": [
        "# show head of joined dataframe\n",
        "joined_data.head()"
      ]
    },
    {
      "cell_type": "code",
      "execution_count": null,
      "metadata": {
        "colab": {
          "base_uri": "https://localhost:8080/"
        },
        "id": "Coi1Dm83Hdfd",
        "outputId": "c8498ff9-be6b-449a-8560-a6f5675a7293"
      },
      "outputs": [
        {
          "data": {
            "text/plain": [
              "Rk_x      269\n",
              "Player      0\n",
              "Pos_x     269\n",
              "Age_x     269\n",
              "Tm_x      269\n",
              "G_x       269\n",
              "GS_x      269\n",
              "MP_x      269\n",
              "FG_x      269\n",
              "FGA_x     269\n",
              "FG%_x     269\n",
              "3P_x      269\n",
              "3PA_x     269\n",
              "3P%_x     269\n",
              "2P_x      269\n",
              "2PA_x     269\n",
              "2P%_x     269\n",
              "eFG%_x    269\n",
              "FT_x      269\n",
              "FTA_x     269\n",
              "FT%_x     269\n",
              "ORB_x     269\n",
              "DRB_x     269\n",
              "TRB_x     269\n",
              "AST_x     269\n",
              "STL_x     269\n",
              "BLK_x     269\n",
              "TOV_x     269\n",
              "PF_x      269\n",
              "PTS_x     269\n",
              "Rk_y      127\n",
              "Pos_y     127\n",
              "Age_y     127\n",
              "Tm_y      127\n",
              "G_y       127\n",
              "GS_y      127\n",
              "MP_y      127\n",
              "FG_y      127\n",
              "FGA_y     127\n",
              "FG%_y     127\n",
              "3P_y      127\n",
              "3PA_y     127\n",
              "3P%_y     127\n",
              "2P_y      127\n",
              "2PA_y     127\n",
              "2P%_y     127\n",
              "eFG%_y    127\n",
              "FT_y      127\n",
              "FTA_y     127\n",
              "FT%_y     127\n",
              "ORB_y     127\n",
              "DRB_y     127\n",
              "TRB_y     127\n",
              "AST_y     127\n",
              "STL_y     127\n",
              "BLK_y     127\n",
              "TOV_y     127\n",
              "PF_y      127\n",
              "PTS_y     127\n",
              "dtype: int64"
            ]
          },
          "execution_count": 13,
          "metadata": {},
          "output_type": "execute_result"
        }
      ],
      "source": [
        "# Check for missing values\n",
        "joined_data.isna().sum()"
      ]
    },
    {
      "cell_type": "code",
      "execution_count": null,
      "metadata": {
        "id": "9ZFTjiZaRn1b"
      },
      "outputs": [],
      "source": [
        "# Dropping missing values\n",
        "joined_data.dropna(inplace = True)"
      ]
    },
    {
      "cell_type": "code",
      "execution_count": null,
      "metadata": {
        "colab": {
          "base_uri": "https://localhost:8080/"
        },
        "id": "oUokePDtHgD4",
        "outputId": "b3ec3531-1f96-4533-842f-6f667c3b2ee2"
      },
      "outputs": [
        {
          "data": {
            "text/plain": [
              "Rk_x      0\n",
              "Player    0\n",
              "Pos_x     0\n",
              "Age_x     0\n",
              "Tm_x      0\n",
              "G_x       0\n",
              "GS_x      0\n",
              "MP_x      0\n",
              "FG_x      0\n",
              "FGA_x     0\n",
              "FG%_x     0\n",
              "3P_x      0\n",
              "3PA_x     0\n",
              "3P%_x     0\n",
              "2P_x      0\n",
              "2PA_x     0\n",
              "2P%_x     0\n",
              "eFG%_x    0\n",
              "FT_x      0\n",
              "FTA_x     0\n",
              "FT%_x     0\n",
              "ORB_x     0\n",
              "DRB_x     0\n",
              "TRB_x     0\n",
              "AST_x     0\n",
              "STL_x     0\n",
              "BLK_x     0\n",
              "TOV_x     0\n",
              "PF_x      0\n",
              "PTS_x     0\n",
              "Rk_y      0\n",
              "Pos_y     0\n",
              "Age_y     0\n",
              "Tm_y      0\n",
              "G_y       0\n",
              "GS_y      0\n",
              "MP_y      0\n",
              "FG_y      0\n",
              "FGA_y     0\n",
              "FG%_y     0\n",
              "3P_y      0\n",
              "3PA_y     0\n",
              "3P%_y     0\n",
              "2P_y      0\n",
              "2PA_y     0\n",
              "2P%_y     0\n",
              "eFG%_y    0\n",
              "FT_y      0\n",
              "FTA_y     0\n",
              "FT%_y     0\n",
              "ORB_y     0\n",
              "DRB_y     0\n",
              "TRB_y     0\n",
              "AST_y     0\n",
              "STL_y     0\n",
              "BLK_y     0\n",
              "TOV_y     0\n",
              "PF_y      0\n",
              "PTS_y     0\n",
              "dtype: int64"
            ]
          },
          "execution_count": 15,
          "metadata": {},
          "output_type": "execute_result"
        }
      ],
      "source": [
        "# Confirm missing values are removed\n",
        "joined_data.isna().sum()"
      ]
    },
    {
      "cell_type": "code",
      "execution_count": null,
      "metadata": {
        "colab": {
          "base_uri": "https://localhost:8080/"
        },
        "id": "-_aE_gkmMwEI",
        "outputId": "9e78b470-3137-4b52-b812-e843def4ed7f"
      },
      "outputs": [
        {
          "data": {
            "text/plain": [
              "(707, 59)"
            ]
          },
          "execution_count": 16,
          "metadata": {},
          "output_type": "execute_result"
        }
      ],
      "source": [
        "# shape of the dataset\n",
        "joined_data.shape"
      ]
    },
    {
      "cell_type": "code",
      "execution_count": null,
      "metadata": {
        "colab": {
          "base_uri": "https://localhost:8080/"
        },
        "id": "eyqKnMMMN5AH",
        "outputId": "a21b1cf5-2d15-486a-a9d7-10a9672e7c24"
      },
      "outputs": [
        {
          "data": {
            "text/plain": [
              "Rk_x      float64\n",
              "Player     object\n",
              "Pos_x      object\n",
              "Age_x     float64\n",
              "Tm_x       object\n",
              "G_x       float64\n",
              "GS_x      float64\n",
              "MP_x      float64\n",
              "FG_x      float64\n",
              "FGA_x     float64\n",
              "FG%_x     float64\n",
              "3P_x      float64\n",
              "3PA_x     float64\n",
              "3P%_x     float64\n",
              "2P_x      float64\n",
              "2PA_x     float64\n",
              "2P%_x     float64\n",
              "eFG%_x    float64\n",
              "FT_x      float64\n",
              "FTA_x     float64\n",
              "FT%_x     float64\n",
              "ORB_x     float64\n",
              "DRB_x     float64\n",
              "TRB_x     float64\n",
              "AST_x     float64\n",
              "STL_x     float64\n",
              "BLK_x     float64\n",
              "TOV_x     float64\n",
              "PF_x      float64\n",
              "PTS_x     float64\n",
              "Rk_y      float64\n",
              "Pos_y      object\n",
              "Age_y     float64\n",
              "Tm_y       object\n",
              "G_y       float64\n",
              "GS_y      float64\n",
              "MP_y      float64\n",
              "FG_y      float64\n",
              "FGA_y     float64\n",
              "FG%_y     float64\n",
              "3P_y      float64\n",
              "3PA_y     float64\n",
              "3P%_y     float64\n",
              "2P_y      float64\n",
              "2PA_y     float64\n",
              "2P%_y     float64\n",
              "eFG%_y    float64\n",
              "FT_y      float64\n",
              "FTA_y     float64\n",
              "FT%_y     float64\n",
              "ORB_y     float64\n",
              "DRB_y     float64\n",
              "TRB_y     float64\n",
              "AST_y     float64\n",
              "STL_y     float64\n",
              "BLK_y     float64\n",
              "TOV_y     float64\n",
              "PF_y      float64\n",
              "PTS_y     float64\n",
              "dtype: object"
            ]
          },
          "execution_count": 17,
          "metadata": {},
          "output_type": "execute_result"
        }
      ],
      "source": [
        "# Check data type\n",
        "joined_data.dtypes"
      ]
    },
    {
      "cell_type": "code",
      "execution_count": null,
      "metadata": {
        "id": "kXzHAnwiuAIc"
      },
      "outputs": [],
      "source": [
        "# Set index of data to player\n",
        "joined_data = joined_data.set_index('Player')"
      ]
    },
    {
      "cell_type": "code",
      "execution_count": null,
      "metadata": {
        "colab": {
          "base_uri": "https://localhost:8080/",
          "height": 435
        },
        "id": "m_6P7qR4uA9m",
        "outputId": "bd16a337-0cea-4bcb-b44c-033a79ecf0a5"
      },
      "outputs": [
        {
          "data": {
            "text/html": [
              "\n",
              "  <div id=\"df-9791965f-db4b-4147-bdd6-f9e7b894d728\">\n",
              "    <div class=\"colab-df-container\">\n",
              "      <div>\n",
              "<style scoped>\n",
              "    .dataframe tbody tr th:only-of-type {\n",
              "        vertical-align: middle;\n",
              "    }\n",
              "\n",
              "    .dataframe tbody tr th {\n",
              "        vertical-align: top;\n",
              "    }\n",
              "\n",
              "    .dataframe thead th {\n",
              "        text-align: right;\n",
              "    }\n",
              "</style>\n",
              "<table border=\"1\" class=\"dataframe\">\n",
              "  <thead>\n",
              "    <tr style=\"text-align: right;\">\n",
              "      <th></th>\n",
              "      <th>Rk_x</th>\n",
              "      <th>Pos_x</th>\n",
              "      <th>Age_x</th>\n",
              "      <th>Tm_x</th>\n",
              "      <th>G_x</th>\n",
              "      <th>GS_x</th>\n",
              "      <th>MP_x</th>\n",
              "      <th>FG_x</th>\n",
              "      <th>FGA_x</th>\n",
              "      <th>FG%_x</th>\n",
              "      <th>...</th>\n",
              "      <th>FT%_y</th>\n",
              "      <th>ORB_y</th>\n",
              "      <th>DRB_y</th>\n",
              "      <th>TRB_y</th>\n",
              "      <th>AST_y</th>\n",
              "      <th>STL_y</th>\n",
              "      <th>BLK_y</th>\n",
              "      <th>TOV_y</th>\n",
              "      <th>PF_y</th>\n",
              "      <th>PTS_y</th>\n",
              "    </tr>\n",
              "    <tr>\n",
              "      <th>Player</th>\n",
              "      <th></th>\n",
              "      <th></th>\n",
              "      <th></th>\n",
              "      <th></th>\n",
              "      <th></th>\n",
              "      <th></th>\n",
              "      <th></th>\n",
              "      <th></th>\n",
              "      <th></th>\n",
              "      <th></th>\n",
              "      <th></th>\n",
              "      <th></th>\n",
              "      <th></th>\n",
              "      <th></th>\n",
              "      <th></th>\n",
              "      <th></th>\n",
              "      <th></th>\n",
              "      <th></th>\n",
              "      <th></th>\n",
              "      <th></th>\n",
              "      <th></th>\n",
              "    </tr>\n",
              "  </thead>\n",
              "  <tbody>\n",
              "    <tr>\n",
              "      <th>Precious Achiuwa</th>\n",
              "      <td>1.0</td>\n",
              "      <td>C</td>\n",
              "      <td>23.0</td>\n",
              "      <td>TOR</td>\n",
              "      <td>55.0</td>\n",
              "      <td>12.0</td>\n",
              "      <td>20.7</td>\n",
              "      <td>3.6</td>\n",
              "      <td>7.3</td>\n",
              "      <td>0.485</td>\n",
              "      <td>...</td>\n",
              "      <td>0.595</td>\n",
              "      <td>2.0</td>\n",
              "      <td>4.5</td>\n",
              "      <td>6.5</td>\n",
              "      <td>1.1</td>\n",
              "      <td>0.5</td>\n",
              "      <td>0.6</td>\n",
              "      <td>1.2</td>\n",
              "      <td>2.1</td>\n",
              "      <td>9.1</td>\n",
              "    </tr>\n",
              "    <tr>\n",
              "      <th>Steven Adams</th>\n",
              "      <td>2.0</td>\n",
              "      <td>C</td>\n",
              "      <td>29.0</td>\n",
              "      <td>MEM</td>\n",
              "      <td>42.0</td>\n",
              "      <td>42.0</td>\n",
              "      <td>27.0</td>\n",
              "      <td>3.7</td>\n",
              "      <td>6.3</td>\n",
              "      <td>0.597</td>\n",
              "      <td>...</td>\n",
              "      <td>0.543</td>\n",
              "      <td>4.6</td>\n",
              "      <td>5.4</td>\n",
              "      <td>10.0</td>\n",
              "      <td>3.4</td>\n",
              "      <td>0.9</td>\n",
              "      <td>0.8</td>\n",
              "      <td>1.5</td>\n",
              "      <td>2.0</td>\n",
              "      <td>6.9</td>\n",
              "    </tr>\n",
              "    <tr>\n",
              "      <th>Bam Adebayo</th>\n",
              "      <td>3.0</td>\n",
              "      <td>C</td>\n",
              "      <td>25.0</td>\n",
              "      <td>MIA</td>\n",
              "      <td>75.0</td>\n",
              "      <td>75.0</td>\n",
              "      <td>34.6</td>\n",
              "      <td>8.0</td>\n",
              "      <td>14.9</td>\n",
              "      <td>0.540</td>\n",
              "      <td>...</td>\n",
              "      <td>0.753</td>\n",
              "      <td>2.4</td>\n",
              "      <td>7.6</td>\n",
              "      <td>10.1</td>\n",
              "      <td>3.4</td>\n",
              "      <td>1.4</td>\n",
              "      <td>0.8</td>\n",
              "      <td>2.6</td>\n",
              "      <td>3.1</td>\n",
              "      <td>19.1</td>\n",
              "    </tr>\n",
              "    <tr>\n",
              "      <th>Santi Aldama</th>\n",
              "      <td>5.0</td>\n",
              "      <td>PF</td>\n",
              "      <td>22.0</td>\n",
              "      <td>MEM</td>\n",
              "      <td>77.0</td>\n",
              "      <td>20.0</td>\n",
              "      <td>21.8</td>\n",
              "      <td>3.2</td>\n",
              "      <td>6.8</td>\n",
              "      <td>0.470</td>\n",
              "      <td>...</td>\n",
              "      <td>0.625</td>\n",
              "      <td>1.0</td>\n",
              "      <td>1.7</td>\n",
              "      <td>2.7</td>\n",
              "      <td>0.7</td>\n",
              "      <td>0.2</td>\n",
              "      <td>0.3</td>\n",
              "      <td>0.5</td>\n",
              "      <td>1.1</td>\n",
              "      <td>4.1</td>\n",
              "    </tr>\n",
              "    <tr>\n",
              "      <th>Nickeil Alexander-Walker</th>\n",
              "      <td>6.0</td>\n",
              "      <td>SG</td>\n",
              "      <td>24.0</td>\n",
              "      <td>TOT</td>\n",
              "      <td>59.0</td>\n",
              "      <td>3.0</td>\n",
              "      <td>15.0</td>\n",
              "      <td>2.2</td>\n",
              "      <td>5.0</td>\n",
              "      <td>0.444</td>\n",
              "      <td>...</td>\n",
              "      <td>0.743</td>\n",
              "      <td>0.6</td>\n",
              "      <td>2.3</td>\n",
              "      <td>2.9</td>\n",
              "      <td>2.4</td>\n",
              "      <td>0.7</td>\n",
              "      <td>0.4</td>\n",
              "      <td>1.4</td>\n",
              "      <td>1.6</td>\n",
              "      <td>10.6</td>\n",
              "    </tr>\n",
              "  </tbody>\n",
              "</table>\n",
              "<p>5 rows × 58 columns</p>\n",
              "</div>\n",
              "      <button class=\"colab-df-convert\" onclick=\"convertToInteractive('df-9791965f-db4b-4147-bdd6-f9e7b894d728')\"\n",
              "              title=\"Convert this dataframe to an interactive table.\"\n",
              "              style=\"display:none;\">\n",
              "        \n",
              "  <svg xmlns=\"http://www.w3.org/2000/svg\" height=\"24px\"viewBox=\"0 0 24 24\"\n",
              "       width=\"24px\">\n",
              "    <path d=\"M0 0h24v24H0V0z\" fill=\"none\"/>\n",
              "    <path d=\"M18.56 5.44l.94 2.06.94-2.06 2.06-.94-2.06-.94-.94-2.06-.94 2.06-2.06.94zm-11 1L8.5 8.5l.94-2.06 2.06-.94-2.06-.94L8.5 2.5l-.94 2.06-2.06.94zm10 10l.94 2.06.94-2.06 2.06-.94-2.06-.94-.94-2.06-.94 2.06-2.06.94z\"/><path d=\"M17.41 7.96l-1.37-1.37c-.4-.4-.92-.59-1.43-.59-.52 0-1.04.2-1.43.59L10.3 9.45l-7.72 7.72c-.78.78-.78 2.05 0 2.83L4 21.41c.39.39.9.59 1.41.59.51 0 1.02-.2 1.41-.59l7.78-7.78 2.81-2.81c.8-.78.8-2.07 0-2.86zM5.41 20L4 18.59l7.72-7.72 1.47 1.35L5.41 20z\"/>\n",
              "  </svg>\n",
              "      </button>\n",
              "      \n",
              "  <style>\n",
              "    .colab-df-container {\n",
              "      display:flex;\n",
              "      flex-wrap:wrap;\n",
              "      gap: 12px;\n",
              "    }\n",
              "\n",
              "    .colab-df-convert {\n",
              "      background-color: #E8F0FE;\n",
              "      border: none;\n",
              "      border-radius: 50%;\n",
              "      cursor: pointer;\n",
              "      display: none;\n",
              "      fill: #1967D2;\n",
              "      height: 32px;\n",
              "      padding: 0 0 0 0;\n",
              "      width: 32px;\n",
              "    }\n",
              "\n",
              "    .colab-df-convert:hover {\n",
              "      background-color: #E2EBFA;\n",
              "      box-shadow: 0px 1px 2px rgba(60, 64, 67, 0.3), 0px 1px 3px 1px rgba(60, 64, 67, 0.15);\n",
              "      fill: #174EA6;\n",
              "    }\n",
              "\n",
              "    [theme=dark] .colab-df-convert {\n",
              "      background-color: #3B4455;\n",
              "      fill: #D2E3FC;\n",
              "    }\n",
              "\n",
              "    [theme=dark] .colab-df-convert:hover {\n",
              "      background-color: #434B5C;\n",
              "      box-shadow: 0px 1px 3px 1px rgba(0, 0, 0, 0.15);\n",
              "      filter: drop-shadow(0px 1px 2px rgba(0, 0, 0, 0.3));\n",
              "      fill: #FFFFFF;\n",
              "    }\n",
              "  </style>\n",
              "\n",
              "      <script>\n",
              "        const buttonEl =\n",
              "          document.querySelector('#df-9791965f-db4b-4147-bdd6-f9e7b894d728 button.colab-df-convert');\n",
              "        buttonEl.style.display =\n",
              "          google.colab.kernel.accessAllowed ? 'block' : 'none';\n",
              "\n",
              "        async function convertToInteractive(key) {\n",
              "          const element = document.querySelector('#df-9791965f-db4b-4147-bdd6-f9e7b894d728');\n",
              "          const dataTable =\n",
              "            await google.colab.kernel.invokeFunction('convertToInteractive',\n",
              "                                                     [key], {});\n",
              "          if (!dataTable) return;\n",
              "\n",
              "          const docLinkHtml = 'Like what you see? Visit the ' +\n",
              "            '<a target=\"_blank\" href=https://colab.research.google.com/notebooks/data_table.ipynb>data table notebook</a>'\n",
              "            + ' to learn more about interactive tables.';\n",
              "          element.innerHTML = '';\n",
              "          dataTable['output_type'] = 'display_data';\n",
              "          await google.colab.output.renderOutput(dataTable, element);\n",
              "          const docLink = document.createElement('div');\n",
              "          docLink.innerHTML = docLinkHtml;\n",
              "          element.appendChild(docLink);\n",
              "        }\n",
              "      </script>\n",
              "    </div>\n",
              "  </div>\n",
              "  "
            ],
            "text/plain": [
              "                          Rk_x Pos_x  Age_x Tm_x   G_x  GS_x  MP_x  FG_x  \\\n",
              "Player                                                                     \n",
              "Precious Achiuwa           1.0     C   23.0  TOR  55.0  12.0  20.7   3.6   \n",
              "Steven Adams               2.0     C   29.0  MEM  42.0  42.0  27.0   3.7   \n",
              "Bam Adebayo                3.0     C   25.0  MIA  75.0  75.0  34.6   8.0   \n",
              "Santi Aldama               5.0    PF   22.0  MEM  77.0  20.0  21.8   3.2   \n",
              "Nickeil Alexander-Walker   6.0    SG   24.0  TOT  59.0   3.0  15.0   2.2   \n",
              "\n",
              "                          FGA_x  FG%_x  ...  FT%_y  ORB_y  DRB_y  TRB_y  \\\n",
              "Player                                  ...                               \n",
              "Precious Achiuwa            7.3  0.485  ...  0.595    2.0    4.5    6.5   \n",
              "Steven Adams                6.3  0.597  ...  0.543    4.6    5.4   10.0   \n",
              "Bam Adebayo                14.9  0.540  ...  0.753    2.4    7.6   10.1   \n",
              "Santi Aldama                6.8  0.470  ...  0.625    1.0    1.7    2.7   \n",
              "Nickeil Alexander-Walker    5.0  0.444  ...  0.743    0.6    2.3    2.9   \n",
              "\n",
              "                          AST_y  STL_y  BLK_y  TOV_y  PF_y  PTS_y  \n",
              "Player                                                             \n",
              "Precious Achiuwa            1.1    0.5    0.6    1.2   2.1    9.1  \n",
              "Steven Adams                3.4    0.9    0.8    1.5   2.0    6.9  \n",
              "Bam Adebayo                 3.4    1.4    0.8    2.6   3.1   19.1  \n",
              "Santi Aldama                0.7    0.2    0.3    0.5   1.1    4.1  \n",
              "Nickeil Alexander-Walker    2.4    0.7    0.4    1.4   1.6   10.6  \n",
              "\n",
              "[5 rows x 58 columns]"
            ]
          },
          "execution_count": 19,
          "metadata": {},
          "output_type": "execute_result"
        }
      ],
      "source": [
        "# Check data\n",
        "joined_data.head()"
      ]
    },
    {
      "attachments": {},
      "cell_type": "markdown",
      "metadata": {
        "id": "sKQcZWFHSxOr"
      },
      "source": [
        "# Data Modelling"
      ]
    },
    {
      "cell_type": "code",
      "execution_count": null,
      "metadata": {
        "id": "bruHrVcxRsbU"
      },
      "outputs": [],
      "source": [
        "# Select the features (X) and target variables (y) for points prediction\n",
        "# Drop columns not needed\n",
        "features = joined_data.drop(['PTS_x', 'Pos_x', 'Pos_y', 'Tm_x', 'Tm_y', 'Rk_y', 'Rk_x'], axis = 1)\n",
        "# set target to points\n",
        "target_pts = joined_data[['PTS_x']]"
      ]
    },
    {
      "cell_type": "code",
      "execution_count": null,
      "metadata": {
        "id": "8Ps7WsGYRxWX"
      },
      "outputs": [],
      "source": [
        "# Split the data into training and test sets\n",
        "X_train, X_test, y_train_pts, y_test_pts = train_test_split(features, target_pts, test_size=0.25, random_state=42)"
      ]
    },
    {
      "attachments": {},
      "cell_type": "markdown",
      "metadata": {
        "id": "vd1AkmJ3SuDl"
      },
      "source": [
        "## Linear Regression"
      ]
    },
    {
      "cell_type": "code",
      "execution_count": null,
      "metadata": {
        "colab": {
          "base_uri": "https://localhost:8080/",
          "height": 75
        },
        "id": "kTgyaUOYR9wn",
        "outputId": "8d5bd01f-8868-4860-c2e4-da6c70d2648d"
      },
      "outputs": [
        {
          "data": {
            "text/html": [
              "<style>#sk-container-id-1 {color: black;background-color: white;}#sk-container-id-1 pre{padding: 0;}#sk-container-id-1 div.sk-toggleable {background-color: white;}#sk-container-id-1 label.sk-toggleable__label {cursor: pointer;display: block;width: 100%;margin-bottom: 0;padding: 0.3em;box-sizing: border-box;text-align: center;}#sk-container-id-1 label.sk-toggleable__label-arrow:before {content: \"▸\";float: left;margin-right: 0.25em;color: #696969;}#sk-container-id-1 label.sk-toggleable__label-arrow:hover:before {color: black;}#sk-container-id-1 div.sk-estimator:hover label.sk-toggleable__label-arrow:before {color: black;}#sk-container-id-1 div.sk-toggleable__content {max-height: 0;max-width: 0;overflow: hidden;text-align: left;background-color: #f0f8ff;}#sk-container-id-1 div.sk-toggleable__content pre {margin: 0.2em;color: black;border-radius: 0.25em;background-color: #f0f8ff;}#sk-container-id-1 input.sk-toggleable__control:checked~div.sk-toggleable__content {max-height: 200px;max-width: 100%;overflow: auto;}#sk-container-id-1 input.sk-toggleable__control:checked~label.sk-toggleable__label-arrow:before {content: \"▾\";}#sk-container-id-1 div.sk-estimator input.sk-toggleable__control:checked~label.sk-toggleable__label {background-color: #d4ebff;}#sk-container-id-1 div.sk-label input.sk-toggleable__control:checked~label.sk-toggleable__label {background-color: #d4ebff;}#sk-container-id-1 input.sk-hidden--visually {border: 0;clip: rect(1px 1px 1px 1px);clip: rect(1px, 1px, 1px, 1px);height: 1px;margin: -1px;overflow: hidden;padding: 0;position: absolute;width: 1px;}#sk-container-id-1 div.sk-estimator {font-family: monospace;background-color: #f0f8ff;border: 1px dotted black;border-radius: 0.25em;box-sizing: border-box;margin-bottom: 0.5em;}#sk-container-id-1 div.sk-estimator:hover {background-color: #d4ebff;}#sk-container-id-1 div.sk-parallel-item::after {content: \"\";width: 100%;border-bottom: 1px solid gray;flex-grow: 1;}#sk-container-id-1 div.sk-label:hover label.sk-toggleable__label {background-color: #d4ebff;}#sk-container-id-1 div.sk-serial::before {content: \"\";position: absolute;border-left: 1px solid gray;box-sizing: border-box;top: 0;bottom: 0;left: 50%;z-index: 0;}#sk-container-id-1 div.sk-serial {display: flex;flex-direction: column;align-items: center;background-color: white;padding-right: 0.2em;padding-left: 0.2em;position: relative;}#sk-container-id-1 div.sk-item {position: relative;z-index: 1;}#sk-container-id-1 div.sk-parallel {display: flex;align-items: stretch;justify-content: center;background-color: white;position: relative;}#sk-container-id-1 div.sk-item::before, #sk-container-id-1 div.sk-parallel-item::before {content: \"\";position: absolute;border-left: 1px solid gray;box-sizing: border-box;top: 0;bottom: 0;left: 50%;z-index: -1;}#sk-container-id-1 div.sk-parallel-item {display: flex;flex-direction: column;z-index: 1;position: relative;background-color: white;}#sk-container-id-1 div.sk-parallel-item:first-child::after {align-self: flex-end;width: 50%;}#sk-container-id-1 div.sk-parallel-item:last-child::after {align-self: flex-start;width: 50%;}#sk-container-id-1 div.sk-parallel-item:only-child::after {width: 0;}#sk-container-id-1 div.sk-dashed-wrapped {border: 1px dashed gray;margin: 0 0.4em 0.5em 0.4em;box-sizing: border-box;padding-bottom: 0.4em;background-color: white;}#sk-container-id-1 div.sk-label label {font-family: monospace;font-weight: bold;display: inline-block;line-height: 1.2em;}#sk-container-id-1 div.sk-label-container {text-align: center;}#sk-container-id-1 div.sk-container {/* jupyter's `normalize.less` sets `[hidden] { display: none; }` but bootstrap.min.css set `[hidden] { display: none !important; }` so we also need the `!important` here to be able to override the default hidden behavior on the sphinx rendered scikit-learn.org. See: https://github.com/scikit-learn/scikit-learn/issues/21755 */display: inline-block !important;position: relative;}#sk-container-id-1 div.sk-text-repr-fallback {display: none;}</style><div id=\"sk-container-id-1\" class=\"sk-top-container\"><div class=\"sk-text-repr-fallback\"><pre>LinearRegression()</pre><b>In a Jupyter environment, please rerun this cell to show the HTML representation or trust the notebook. <br />On GitHub, the HTML representation is unable to render, please try loading this page with nbviewer.org.</b></div><div class=\"sk-container\" hidden><div class=\"sk-item\"><div class=\"sk-estimator sk-toggleable\"><input class=\"sk-toggleable__control sk-hidden--visually\" id=\"sk-estimator-id-1\" type=\"checkbox\" checked><label for=\"sk-estimator-id-1\" class=\"sk-toggleable__label sk-toggleable__label-arrow\">LinearRegression</label><div class=\"sk-toggleable__content\"><pre>LinearRegression()</pre></div></div></div></div></div>"
            ],
            "text/plain": [
              "LinearRegression()"
            ]
          },
          "execution_count": 22,
          "metadata": {},
          "output_type": "execute_result"
        }
      ],
      "source": [
        "# import the regressor\n",
        "from sklearn.linear_model import LinearRegression\n",
        "\n",
        "# make the regressor object\n",
        "model_pts = LinearRegression()\n",
        "\n",
        "# Train the models\n",
        "model_pts.fit(X_train, y_train_pts)"
      ]
    },
    {
      "cell_type": "code",
      "execution_count": null,
      "metadata": {
        "id": "OCwrFHsOUgL9"
      },
      "outputs": [],
      "source": [
        "# Make predictions for the input testing data using the linear regression Model\n",
        "pts_predictions_linear = model_pts.predict(X_test)"
      ]
    },
    {
      "attachments": {},
      "cell_type": "markdown",
      "metadata": {
        "id": "vleX362yUltK"
      },
      "source": [
        "#### Model Accuracy"
      ]
    },
    {
      "cell_type": "code",
      "execution_count": null,
      "metadata": {
        "colab": {
          "base_uri": "https://localhost:8080/"
        },
        "id": "hb_-bXbtUdlR",
        "outputId": "c952d6f7-2017-4fb5-a38f-6e03f92634a3"
      },
      "outputs": [
        {
          "name": "stdout",
          "output_type": "stream",
          "text": [
            "Linear Regression R-squared: 0.999886061633242\n",
            "MSE Linear Regression: 0.077\n"
          ]
        }
      ],
      "source": [
        "# Calculate R-squared and MSE for the linear regression model\n",
        "# r-squared\n",
        "r_squared = model_pts.score(X_train, y_train_pts)\n",
        "print(\"Linear Regression R-squared:\", r_squared)\n",
        "# MSE\n",
        "print('MSE Linear Regression: %.3f' %np.sqrt(metrics.mean_squared_error(y_test_pts, pts_predictions_linear)))\n"
      ]
    },
    {
      "attachments": {},
      "cell_type": "markdown",
      "metadata": {
        "id": "_IFDrxKK5QY7"
      },
      "source": [
        "## RandomForestRegressor"
      ]
    },
    {
      "cell_type": "code",
      "execution_count": null,
      "metadata": {
        "id": "f-wi6F3U5Use"
      },
      "outputs": [],
      "source": [
        "# import the regressor\n",
        "from sklearn.ensemble import RandomForestRegressor"
      ]
    },
    {
      "cell_type": "code",
      "execution_count": null,
      "metadata": {
        "id": "En9bCzXj5Wbj"
      },
      "outputs": [],
      "source": [
        "# make the regressor object\n",
        "model_pts_forest = RandomForestRegressor()"
      ]
    },
    {
      "cell_type": "code",
      "execution_count": null,
      "metadata": {
        "colab": {
          "base_uri": "https://localhost:8080/",
          "height": 129
        },
        "id": "Wv57hDll5YmT",
        "outputId": "214f1942-5eb0-4f01-c3f6-9878f87e40ef"
      },
      "outputs": [
        {
          "name": "stderr",
          "output_type": "stream",
          "text": [
            "<ipython-input-27-d5fdbd4d2480>:2: DataConversionWarning: A column-vector y was passed when a 1d array was expected. Please change the shape of y to (n_samples,), for example using ravel().\n",
            "  model_pts_forest.fit(X_train, y_train_pts)\n"
          ]
        },
        {
          "data": {
            "text/html": [
              "<style>#sk-container-id-2 {color: black;background-color: white;}#sk-container-id-2 pre{padding: 0;}#sk-container-id-2 div.sk-toggleable {background-color: white;}#sk-container-id-2 label.sk-toggleable__label {cursor: pointer;display: block;width: 100%;margin-bottom: 0;padding: 0.3em;box-sizing: border-box;text-align: center;}#sk-container-id-2 label.sk-toggleable__label-arrow:before {content: \"▸\";float: left;margin-right: 0.25em;color: #696969;}#sk-container-id-2 label.sk-toggleable__label-arrow:hover:before {color: black;}#sk-container-id-2 div.sk-estimator:hover label.sk-toggleable__label-arrow:before {color: black;}#sk-container-id-2 div.sk-toggleable__content {max-height: 0;max-width: 0;overflow: hidden;text-align: left;background-color: #f0f8ff;}#sk-container-id-2 div.sk-toggleable__content pre {margin: 0.2em;color: black;border-radius: 0.25em;background-color: #f0f8ff;}#sk-container-id-2 input.sk-toggleable__control:checked~div.sk-toggleable__content {max-height: 200px;max-width: 100%;overflow: auto;}#sk-container-id-2 input.sk-toggleable__control:checked~label.sk-toggleable__label-arrow:before {content: \"▾\";}#sk-container-id-2 div.sk-estimator input.sk-toggleable__control:checked~label.sk-toggleable__label {background-color: #d4ebff;}#sk-container-id-2 div.sk-label input.sk-toggleable__control:checked~label.sk-toggleable__label {background-color: #d4ebff;}#sk-container-id-2 input.sk-hidden--visually {border: 0;clip: rect(1px 1px 1px 1px);clip: rect(1px, 1px, 1px, 1px);height: 1px;margin: -1px;overflow: hidden;padding: 0;position: absolute;width: 1px;}#sk-container-id-2 div.sk-estimator {font-family: monospace;background-color: #f0f8ff;border: 1px dotted black;border-radius: 0.25em;box-sizing: border-box;margin-bottom: 0.5em;}#sk-container-id-2 div.sk-estimator:hover {background-color: #d4ebff;}#sk-container-id-2 div.sk-parallel-item::after {content: \"\";width: 100%;border-bottom: 1px solid gray;flex-grow: 1;}#sk-container-id-2 div.sk-label:hover label.sk-toggleable__label {background-color: #d4ebff;}#sk-container-id-2 div.sk-serial::before {content: \"\";position: absolute;border-left: 1px solid gray;box-sizing: border-box;top: 0;bottom: 0;left: 50%;z-index: 0;}#sk-container-id-2 div.sk-serial {display: flex;flex-direction: column;align-items: center;background-color: white;padding-right: 0.2em;padding-left: 0.2em;position: relative;}#sk-container-id-2 div.sk-item {position: relative;z-index: 1;}#sk-container-id-2 div.sk-parallel {display: flex;align-items: stretch;justify-content: center;background-color: white;position: relative;}#sk-container-id-2 div.sk-item::before, #sk-container-id-2 div.sk-parallel-item::before {content: \"\";position: absolute;border-left: 1px solid gray;box-sizing: border-box;top: 0;bottom: 0;left: 50%;z-index: -1;}#sk-container-id-2 div.sk-parallel-item {display: flex;flex-direction: column;z-index: 1;position: relative;background-color: white;}#sk-container-id-2 div.sk-parallel-item:first-child::after {align-self: flex-end;width: 50%;}#sk-container-id-2 div.sk-parallel-item:last-child::after {align-self: flex-start;width: 50%;}#sk-container-id-2 div.sk-parallel-item:only-child::after {width: 0;}#sk-container-id-2 div.sk-dashed-wrapped {border: 1px dashed gray;margin: 0 0.4em 0.5em 0.4em;box-sizing: border-box;padding-bottom: 0.4em;background-color: white;}#sk-container-id-2 div.sk-label label {font-family: monospace;font-weight: bold;display: inline-block;line-height: 1.2em;}#sk-container-id-2 div.sk-label-container {text-align: center;}#sk-container-id-2 div.sk-container {/* jupyter's `normalize.less` sets `[hidden] { display: none; }` but bootstrap.min.css set `[hidden] { display: none !important; }` so we also need the `!important` here to be able to override the default hidden behavior on the sphinx rendered scikit-learn.org. See: https://github.com/scikit-learn/scikit-learn/issues/21755 */display: inline-block !important;position: relative;}#sk-container-id-2 div.sk-text-repr-fallback {display: none;}</style><div id=\"sk-container-id-2\" class=\"sk-top-container\"><div class=\"sk-text-repr-fallback\"><pre>RandomForestRegressor()</pre><b>In a Jupyter environment, please rerun this cell to show the HTML representation or trust the notebook. <br />On GitHub, the HTML representation is unable to render, please try loading this page with nbviewer.org.</b></div><div class=\"sk-container\" hidden><div class=\"sk-item\"><div class=\"sk-estimator sk-toggleable\"><input class=\"sk-toggleable__control sk-hidden--visually\" id=\"sk-estimator-id-2\" type=\"checkbox\" checked><label for=\"sk-estimator-id-2\" class=\"sk-toggleable__label sk-toggleable__label-arrow\">RandomForestRegressor</label><div class=\"sk-toggleable__content\"><pre>RandomForestRegressor()</pre></div></div></div></div></div>"
            ],
            "text/plain": [
              "RandomForestRegressor()"
            ]
          },
          "execution_count": 27,
          "metadata": {},
          "output_type": "execute_result"
        }
      ],
      "source": [
        "# fit the regressor with X and y data\n",
        "model_pts_forest.fit(X_train, y_train_pts)"
      ]
    },
    {
      "cell_type": "code",
      "execution_count": null,
      "metadata": {
        "id": "yVCiMtYPU7x3"
      },
      "outputs": [],
      "source": [
        "# Make predictions for the input testing data using the Random Forest Regressor Model\n",
        "pts_predictions_forest = model_pts_forest.predict(X_test)"
      ]
    },
    {
      "attachments": {},
      "cell_type": "markdown",
      "metadata": {
        "id": "IViR1EQvU0F7"
      },
      "source": [
        "#### Model accuracy"
      ]
    },
    {
      "cell_type": "code",
      "execution_count": null,
      "metadata": {
        "colab": {
          "base_uri": "https://localhost:8080/"
        },
        "id": "PXouyWOX5Zzn",
        "outputId": "e1fe159b-e915-4a75-bcc2-661c0872f138"
      },
      "outputs": [
        {
          "name": "stdout",
          "output_type": "stream",
          "text": [
            "Linear Regression R-squared: 0.999886061633242\n",
            "Random Forest Regression R-squared: 0.9987118994178104\n",
            "-----------------------------\n",
            "MSE Linear Regression: 0.077\n",
            "MSE for Random Forest Regression: 0.548\n"
          ]
        }
      ],
      "source": [
        "# Calculate R-squared for the random regressor model\n",
        "r_squared_forest = model_pts_forest.score(X_train, y_train_pts)\n",
        "\n",
        "# compare model accuracy to linear regression\n",
        "print(\"Linear Regression R-squared:\", r_squared)\n",
        "print(\"Random Forest Regression R-squared:\", r_squared_forest)\n",
        "print(\"-----------------------------\")\n",
        "# MSE\n",
        "print('MSE Linear Regression: %.3f' %np.sqrt(metrics.mean_squared_error(y_test_pts, pts_predictions_linear)))\n",
        "print('MSE for Random Forest Regression: %.3f' %np.sqrt(metrics.mean_squared_error(y_test_pts, pts_predictions_forest)))"
      ]
    },
    {
      "attachments": {},
      "cell_type": "markdown",
      "metadata": {
        "id": "7ONhINMnQfYD"
      },
      "source": [
        "## Decission TreeRegressor"
      ]
    },
    {
      "cell_type": "code",
      "execution_count": null,
      "metadata": {
        "colab": {
          "base_uri": "https://localhost:8080/",
          "height": 75
        },
        "id": "J2ZpavgyQckU",
        "outputId": "b2a0879f-8991-41ca-9bac-437eaeceddde"
      },
      "outputs": [
        {
          "data": {
            "text/html": [
              "<style>#sk-container-id-3 {color: black;background-color: white;}#sk-container-id-3 pre{padding: 0;}#sk-container-id-3 div.sk-toggleable {background-color: white;}#sk-container-id-3 label.sk-toggleable__label {cursor: pointer;display: block;width: 100%;margin-bottom: 0;padding: 0.3em;box-sizing: border-box;text-align: center;}#sk-container-id-3 label.sk-toggleable__label-arrow:before {content: \"▸\";float: left;margin-right: 0.25em;color: #696969;}#sk-container-id-3 label.sk-toggleable__label-arrow:hover:before {color: black;}#sk-container-id-3 div.sk-estimator:hover label.sk-toggleable__label-arrow:before {color: black;}#sk-container-id-3 div.sk-toggleable__content {max-height: 0;max-width: 0;overflow: hidden;text-align: left;background-color: #f0f8ff;}#sk-container-id-3 div.sk-toggleable__content pre {margin: 0.2em;color: black;border-radius: 0.25em;background-color: #f0f8ff;}#sk-container-id-3 input.sk-toggleable__control:checked~div.sk-toggleable__content {max-height: 200px;max-width: 100%;overflow: auto;}#sk-container-id-3 input.sk-toggleable__control:checked~label.sk-toggleable__label-arrow:before {content: \"▾\";}#sk-container-id-3 div.sk-estimator input.sk-toggleable__control:checked~label.sk-toggleable__label {background-color: #d4ebff;}#sk-container-id-3 div.sk-label input.sk-toggleable__control:checked~label.sk-toggleable__label {background-color: #d4ebff;}#sk-container-id-3 input.sk-hidden--visually {border: 0;clip: rect(1px 1px 1px 1px);clip: rect(1px, 1px, 1px, 1px);height: 1px;margin: -1px;overflow: hidden;padding: 0;position: absolute;width: 1px;}#sk-container-id-3 div.sk-estimator {font-family: monospace;background-color: #f0f8ff;border: 1px dotted black;border-radius: 0.25em;box-sizing: border-box;margin-bottom: 0.5em;}#sk-container-id-3 div.sk-estimator:hover {background-color: #d4ebff;}#sk-container-id-3 div.sk-parallel-item::after {content: \"\";width: 100%;border-bottom: 1px solid gray;flex-grow: 1;}#sk-container-id-3 div.sk-label:hover label.sk-toggleable__label {background-color: #d4ebff;}#sk-container-id-3 div.sk-serial::before {content: \"\";position: absolute;border-left: 1px solid gray;box-sizing: border-box;top: 0;bottom: 0;left: 50%;z-index: 0;}#sk-container-id-3 div.sk-serial {display: flex;flex-direction: column;align-items: center;background-color: white;padding-right: 0.2em;padding-left: 0.2em;position: relative;}#sk-container-id-3 div.sk-item {position: relative;z-index: 1;}#sk-container-id-3 div.sk-parallel {display: flex;align-items: stretch;justify-content: center;background-color: white;position: relative;}#sk-container-id-3 div.sk-item::before, #sk-container-id-3 div.sk-parallel-item::before {content: \"\";position: absolute;border-left: 1px solid gray;box-sizing: border-box;top: 0;bottom: 0;left: 50%;z-index: -1;}#sk-container-id-3 div.sk-parallel-item {display: flex;flex-direction: column;z-index: 1;position: relative;background-color: white;}#sk-container-id-3 div.sk-parallel-item:first-child::after {align-self: flex-end;width: 50%;}#sk-container-id-3 div.sk-parallel-item:last-child::after {align-self: flex-start;width: 50%;}#sk-container-id-3 div.sk-parallel-item:only-child::after {width: 0;}#sk-container-id-3 div.sk-dashed-wrapped {border: 1px dashed gray;margin: 0 0.4em 0.5em 0.4em;box-sizing: border-box;padding-bottom: 0.4em;background-color: white;}#sk-container-id-3 div.sk-label label {font-family: monospace;font-weight: bold;display: inline-block;line-height: 1.2em;}#sk-container-id-3 div.sk-label-container {text-align: center;}#sk-container-id-3 div.sk-container {/* jupyter's `normalize.less` sets `[hidden] { display: none; }` but bootstrap.min.css set `[hidden] { display: none !important; }` so we also need the `!important` here to be able to override the default hidden behavior on the sphinx rendered scikit-learn.org. See: https://github.com/scikit-learn/scikit-learn/issues/21755 */display: inline-block !important;position: relative;}#sk-container-id-3 div.sk-text-repr-fallback {display: none;}</style><div id=\"sk-container-id-3\" class=\"sk-top-container\"><div class=\"sk-text-repr-fallback\"><pre>DecisionTreeRegressor(random_state=0)</pre><b>In a Jupyter environment, please rerun this cell to show the HTML representation or trust the notebook. <br />On GitHub, the HTML representation is unable to render, please try loading this page with nbviewer.org.</b></div><div class=\"sk-container\" hidden><div class=\"sk-item\"><div class=\"sk-estimator sk-toggleable\"><input class=\"sk-toggleable__control sk-hidden--visually\" id=\"sk-estimator-id-3\" type=\"checkbox\" checked><label for=\"sk-estimator-id-3\" class=\"sk-toggleable__label sk-toggleable__label-arrow\">DecisionTreeRegressor</label><div class=\"sk-toggleable__content\"><pre>DecisionTreeRegressor(random_state=0)</pre></div></div></div></div></div>"
            ],
            "text/plain": [
              "DecisionTreeRegressor(random_state=0)"
            ]
          },
          "execution_count": 30,
          "metadata": {},
          "output_type": "execute_result"
        }
      ],
      "source": [
        "# import the regressor\n",
        "from sklearn.tree import DecisionTreeRegressor\n",
        "\n",
        "# create a regressor object\n",
        "regressor = DecisionTreeRegressor(random_state = 0)\n",
        "\n",
        "# fit the regressor with X and y data\n",
        "regressor.fit(X_train, y_train_pts)"
      ]
    },
    {
      "cell_type": "code",
      "execution_count": null,
      "metadata": {
        "id": "u7AqpY8jWde-"
      },
      "outputs": [],
      "source": [
        "# Make predictions for the input testing data using the Decission Tree Regressor\n",
        "pts_predictions_decission = regressor.predict(X_test)"
      ]
    },
    {
      "attachments": {},
      "cell_type": "markdown",
      "metadata": {
        "id": "T9_7HmWuW97L"
      },
      "source": [
        "#### Model Accuracy"
      ]
    },
    {
      "cell_type": "code",
      "execution_count": null,
      "metadata": {
        "colab": {
          "base_uri": "https://localhost:8080/"
        },
        "id": "tm1gv4DTRZ9O",
        "outputId": "46103657-d2da-419f-8fe4-1f87ae08ea1a"
      },
      "outputs": [
        {
          "name": "stdout",
          "output_type": "stream",
          "text": [
            "Linear Regression R-squared: 0.999886061633242\n",
            "Random Forest Regression R-squared: 0.9987118994178104\n",
            "Random Decission tree R-squared: 1.0\n",
            "-----------------------------\n",
            "MSE Linear Regression: 0.077\n",
            "MSE for Random Forest Regression: 0.548\n",
            "MSE for Decission TreeRegression: 1.041\n"
          ]
        }
      ],
      "source": [
        "# model accuracy for decission tree regressor\n",
        "r_squared_decissiontree = regressor.score(X_train, y_train_pts)\n",
        "\n",
        "# compare model accuracy to linear regression and random forest regression model\n",
        "print(\"Linear Regression R-squared:\", r_squared)\n",
        "print(\"Random Forest Regression R-squared:\", r_squared_forest)\n",
        "print(\"Random Decission tree R-squared:\", r_squared_decissiontree)\n",
        "print(\"-----------------------------\")\n",
        "# MSE\n",
        "print('MSE Linear Regression: %.3f' %np.sqrt(metrics.mean_squared_error(y_test_pts, pts_predictions_linear)))\n",
        "print('MSE for Random Forest Regression: %.3f' %np.sqrt(metrics.mean_squared_error(y_test_pts, pts_predictions_forest)))\n",
        "print('MSE for Decission TreeRegression: %.3f' %np.sqrt(metrics.mean_squared_error(y_test_pts, pts_predictions_decission)))"
      ]
    },
    {
      "attachments": {},
      "cell_type": "markdown",
      "metadata": {
        "id": "kavUZj49e449"
      },
      "source": [
        "## Lasso Model"
      ]
    },
    {
      "cell_type": "code",
      "execution_count": null,
      "metadata": {
        "colab": {
          "base_uri": "https://localhost:8080/",
          "height": 75
        },
        "id": "cZkqLBb7fGvw",
        "outputId": "6eea2fc5-d267-4c8f-93a4-4181219a644a"
      },
      "outputs": [
        {
          "data": {
            "text/html": [
              "<style>#sk-container-id-4 {color: black;background-color: white;}#sk-container-id-4 pre{padding: 0;}#sk-container-id-4 div.sk-toggleable {background-color: white;}#sk-container-id-4 label.sk-toggleable__label {cursor: pointer;display: block;width: 100%;margin-bottom: 0;padding: 0.3em;box-sizing: border-box;text-align: center;}#sk-container-id-4 label.sk-toggleable__label-arrow:before {content: \"▸\";float: left;margin-right: 0.25em;color: #696969;}#sk-container-id-4 label.sk-toggleable__label-arrow:hover:before {color: black;}#sk-container-id-4 div.sk-estimator:hover label.sk-toggleable__label-arrow:before {color: black;}#sk-container-id-4 div.sk-toggleable__content {max-height: 0;max-width: 0;overflow: hidden;text-align: left;background-color: #f0f8ff;}#sk-container-id-4 div.sk-toggleable__content pre {margin: 0.2em;color: black;border-radius: 0.25em;background-color: #f0f8ff;}#sk-container-id-4 input.sk-toggleable__control:checked~div.sk-toggleable__content {max-height: 200px;max-width: 100%;overflow: auto;}#sk-container-id-4 input.sk-toggleable__control:checked~label.sk-toggleable__label-arrow:before {content: \"▾\";}#sk-container-id-4 div.sk-estimator input.sk-toggleable__control:checked~label.sk-toggleable__label {background-color: #d4ebff;}#sk-container-id-4 div.sk-label input.sk-toggleable__control:checked~label.sk-toggleable__label {background-color: #d4ebff;}#sk-container-id-4 input.sk-hidden--visually {border: 0;clip: rect(1px 1px 1px 1px);clip: rect(1px, 1px, 1px, 1px);height: 1px;margin: -1px;overflow: hidden;padding: 0;position: absolute;width: 1px;}#sk-container-id-4 div.sk-estimator {font-family: monospace;background-color: #f0f8ff;border: 1px dotted black;border-radius: 0.25em;box-sizing: border-box;margin-bottom: 0.5em;}#sk-container-id-4 div.sk-estimator:hover {background-color: #d4ebff;}#sk-container-id-4 div.sk-parallel-item::after {content: \"\";width: 100%;border-bottom: 1px solid gray;flex-grow: 1;}#sk-container-id-4 div.sk-label:hover label.sk-toggleable__label {background-color: #d4ebff;}#sk-container-id-4 div.sk-serial::before {content: \"\";position: absolute;border-left: 1px solid gray;box-sizing: border-box;top: 0;bottom: 0;left: 50%;z-index: 0;}#sk-container-id-4 div.sk-serial {display: flex;flex-direction: column;align-items: center;background-color: white;padding-right: 0.2em;padding-left: 0.2em;position: relative;}#sk-container-id-4 div.sk-item {position: relative;z-index: 1;}#sk-container-id-4 div.sk-parallel {display: flex;align-items: stretch;justify-content: center;background-color: white;position: relative;}#sk-container-id-4 div.sk-item::before, #sk-container-id-4 div.sk-parallel-item::before {content: \"\";position: absolute;border-left: 1px solid gray;box-sizing: border-box;top: 0;bottom: 0;left: 50%;z-index: -1;}#sk-container-id-4 div.sk-parallel-item {display: flex;flex-direction: column;z-index: 1;position: relative;background-color: white;}#sk-container-id-4 div.sk-parallel-item:first-child::after {align-self: flex-end;width: 50%;}#sk-container-id-4 div.sk-parallel-item:last-child::after {align-self: flex-start;width: 50%;}#sk-container-id-4 div.sk-parallel-item:only-child::after {width: 0;}#sk-container-id-4 div.sk-dashed-wrapped {border: 1px dashed gray;margin: 0 0.4em 0.5em 0.4em;box-sizing: border-box;padding-bottom: 0.4em;background-color: white;}#sk-container-id-4 div.sk-label label {font-family: monospace;font-weight: bold;display: inline-block;line-height: 1.2em;}#sk-container-id-4 div.sk-label-container {text-align: center;}#sk-container-id-4 div.sk-container {/* jupyter's `normalize.less` sets `[hidden] { display: none; }` but bootstrap.min.css set `[hidden] { display: none !important; }` so we also need the `!important` here to be able to override the default hidden behavior on the sphinx rendered scikit-learn.org. See: https://github.com/scikit-learn/scikit-learn/issues/21755 */display: inline-block !important;position: relative;}#sk-container-id-4 div.sk-text-repr-fallback {display: none;}</style><div id=\"sk-container-id-4\" class=\"sk-top-container\"><div class=\"sk-text-repr-fallback\"><pre>Lasso(alpha=0.1, random_state=42)</pre><b>In a Jupyter environment, please rerun this cell to show the HTML representation or trust the notebook. <br />On GitHub, the HTML representation is unable to render, please try loading this page with nbviewer.org.</b></div><div class=\"sk-container\" hidden><div class=\"sk-item\"><div class=\"sk-estimator sk-toggleable\"><input class=\"sk-toggleable__control sk-hidden--visually\" id=\"sk-estimator-id-4\" type=\"checkbox\" checked><label for=\"sk-estimator-id-4\" class=\"sk-toggleable__label sk-toggleable__label-arrow\">Lasso</label><div class=\"sk-toggleable__content\"><pre>Lasso(alpha=0.1, random_state=42)</pre></div></div></div></div></div>"
            ],
            "text/plain": [
              "Lasso(alpha=0.1, random_state=42)"
            ]
          },
          "execution_count": 33,
          "metadata": {},
          "output_type": "execute_result"
        }
      ],
      "source": [
        "# import the regressor\n",
        "from sklearn import linear_model\n",
        "\n",
        "# create a regressor object\n",
        "clf = linear_model.Lasso(alpha=0.1, random_state = 42)\n",
        "\n",
        "# fit the regressor with X and y data\n",
        "clf.fit(X_train, y_train_pts)"
      ]
    },
    {
      "cell_type": "code",
      "execution_count": null,
      "metadata": {
        "id": "vxVzChoVf8pg"
      },
      "outputs": [],
      "source": [
        "# Make predictions for the input testing data using the Decission Tree Regressor\n",
        "pts_predictions_clf = clf.predict(X_test)"
      ]
    },
    {
      "attachments": {},
      "cell_type": "markdown",
      "metadata": {
        "id": "ZJ2VBjjEgC61"
      },
      "source": [
        "#### Model Accuracy"
      ]
    },
    {
      "cell_type": "code",
      "execution_count": null,
      "metadata": {
        "colab": {
          "base_uri": "https://localhost:8080/"
        },
        "id": "JLf4OibRgGCR",
        "outputId": "26741dc9-13a7-40f0-feca-1ad348841647"
      },
      "outputs": [
        {
          "name": "stdout",
          "output_type": "stream",
          "text": [
            "Linear Regression R-squared: 0.999886061633242\n",
            "Random Forest Regression R-squared: 0.9987118994178104\n",
            "Random Decission tree R-squared: 1.0\n",
            "Random Decission tree R-squared: 0.998271166650121\n",
            "-----------------------------\n",
            "MSE Linear Regression: 0.077\n",
            "MSE for Random Forest Regression: 0.548\n",
            "MSE for Decission TreeRegression: 1.041\n",
            "MSE for Lasso Regression: 0.256\n"
          ]
        }
      ],
      "source": [
        "# model accuracy for Lasso regressor\n",
        "r_squared_lasso = clf.score(X_train, y_train_pts)\n",
        "\n",
        "# compare model accuracy to linear regression, random forest regression model and Decission TreeRegressor\n",
        "print(\"Linear Regression R-squared:\", r_squared)\n",
        "print(\"Random Forest Regression R-squared:\", r_squared_forest)\n",
        "print(\"Random Decission tree R-squared:\", r_squared_decissiontree)\n",
        "print(\"Random Decission tree R-squared:\", r_squared_lasso)\n",
        "print(\"-----------------------------\")\n",
        "# MSE\n",
        "print('MSE Linear Regression: %.3f' %np.sqrt(metrics.mean_squared_error(y_test_pts, pts_predictions_linear)))\n",
        "print('MSE for Random Forest Regression: %.3f' %np.sqrt(metrics.mean_squared_error(y_test_pts, pts_predictions_forest)))\n",
        "print('MSE for Decission TreeRegression: %.3f' %np.sqrt(metrics.mean_squared_error(y_test_pts, pts_predictions_decission)))\n",
        "print('MSE for Lasso Regression: %.3f' %np.sqrt(metrics.mean_squared_error(y_test_pts, pts_predictions_clf)))"
      ]
    },
    {
      "attachments": {},
      "cell_type": "markdown",
      "metadata": {
        "id": "LiSjMMzsikej"
      },
      "source": [
        "## Make predictions for each player using the Linear Regression Model"
      ]
    },
    {
      "cell_type": "code",
      "execution_count": null,
      "metadata": {
        "id": "3LRuOcH4ij2J"
      },
      "outputs": [],
      "source": [
        "# Make predictions for each player using the Linear Regression Model\n",
        "# Get the entire data\n",
        "full_set = pd.concat([X_train, X_test])\n",
        "\n",
        "# Make predictions for entire data using Linear regression\n",
        "pts_predictions = model_pts.predict(full_set)"
      ]
    },
    {
      "attachments": {},
      "cell_type": "markdown",
      "metadata": {
        "id": "ODPR__X26xxM"
      },
      "source": [
        "#Testing Prediction using Random Player"
      ]
    },
    {
      "cell_type": "code",
      "execution_count": null,
      "metadata": {
        "id": "yUeFJQHbuU0p"
      },
      "outputs": [],
      "source": [
        "# Get all unique Players\n",
        "player_names = full_set.index.unique()"
      ]
    },
    {
      "cell_type": "code",
      "execution_count": null,
      "metadata": {
        "id": "50snpPX2IWEt"
      },
      "outputs": [],
      "source": [
        "# Import Random\n",
        "import random\n",
        "\n",
        "# Make prediction for randomly selected player\n",
        "player_names = joined_data.index.unique()\n",
        "select_player = random.choice(player_names)\n",
        "player_row = joined_data[joined_data.index == select_player]\n",
        "player_features = player_row.drop(['PTS_x', 'Pos_x', 'Pos_y', 'Tm_x', 'Tm_y', 'Rk_y', 'Rk_x'], axis = 1)"
      ]
    },
    {
      "cell_type": "code",
      "execution_count": null,
      "metadata": {
        "colab": {
          "base_uri": "https://localhost:8080/"
        },
        "id": "LkB8taCISW1f",
        "outputId": "e0a0e798-a36a-4b4a-95dd-742c43fd528b"
      },
      "outputs": [
        {
          "name": "stdout",
          "output_type": "stream",
          "text": [
            "Player: Steven Adams\n",
            "2021-2022 Points: [6.9]\n",
            "2022-2023 Points: [8.6]\n",
            "2023-2024 Predicted Points: [8.55203405]\n"
          ]
        }
      ],
      "source": [
        "# Get the actual points for the player\n",
        "pts_actual = player_row[['PTS_x']].values[0]\n",
        "pts_actual_2021 = player_row[['PTS_y']].values[0]\n",
        "# Predict points and assists for the player\n",
        "pts_predicted = model_pts.predict(player_features)[0]\n",
        "print(\"Player:\", select_player)\n",
        "print(\"2021-2022 Points:\", pts_actual_2021)\n",
        "print(\"2022-2023 Points:\", pts_actual)\n",
        "print(\"2023-2024 Predicted Points:\", pts_predicted)\n"
      ]
    },
    {
      "attachments": {},
      "cell_type": "markdown",
      "metadata": {
        "id": "rP4KNEtLiKBA"
      },
      "source": [
        "## Further Data Cleaning"
      ]
    },
    {
      "cell_type": "code",
      "execution_count": null,
      "metadata": {
        "id": "-EezQR10bI8p"
      },
      "outputs": [],
      "source": [
        "# Drop 2021-2022 NBA age\n",
        "columns_to_drop = ['Age_y']\n",
        "joined_data.drop(columns=columns_to_drop, inplace=True)"
      ]
    },
    {
      "cell_type": "code",
      "execution_count": null,
      "metadata": {
        "colab": {
          "base_uri": "https://localhost:8080/"
        },
        "id": "awfGh7fwbXC_",
        "outputId": "8a28bb06-1141-42dc-f57a-ef7a27ac7ac7"
      },
      "outputs": [
        {
          "data": {
            "text/plain": [
              "Index(['Rk_x', 'Pos_x', 'Age_x', 'Tm_x', 'G_x', 'GS_x', 'MP_x', 'FG_x',\n",
              "       'FGA_x', 'FG%_x', '3P_x', '3PA_x', '3P%_x', '2P_x', '2PA_x', '2P%_x',\n",
              "       'eFG%_x', 'FT_x', 'FTA_x', 'FT%_x', 'ORB_x', 'DRB_x', 'TRB_x', 'AST_x',\n",
              "       'STL_x', 'BLK_x', 'TOV_x', 'PF_x', 'PTS_x', 'Rk_y', 'Pos_y', 'Tm_y',\n",
              "       'G_y', 'GS_y', 'MP_y', 'FG_y', 'FGA_y', 'FG%_y', '3P_y', '3PA_y',\n",
              "       '3P%_y', '2P_y', '2PA_y', '2P%_y', 'eFG%_y', 'FT_y', 'FTA_y', 'FT%_y',\n",
              "       'ORB_y', 'DRB_y', 'TRB_y', 'AST_y', 'STL_y', 'BLK_y', 'TOV_y', 'PF_y',\n",
              "       'PTS_y'],\n",
              "      dtype='object')"
            ]
          },
          "execution_count": 41,
          "metadata": {},
          "output_type": "execute_result"
        }
      ],
      "source": [
        "# Confirm Age_y was dropped\n",
        "joined_data.columns"
      ]
    },
    {
      "cell_type": "code",
      "execution_count": null,
      "metadata": {
        "id": "WtYE0bR2caOk"
      },
      "outputs": [],
      "source": [
        "# Rename Columns\n",
        "renamed_columns = {}\n",
        "for col in joined_data.columns:\n",
        "    if col.endswith('_x'):\n",
        "        renamed_columns[col] = col[:-2] + '_2022_2023'\n",
        "    elif col.endswith('_y'):\n",
        "        renamed_columns[col] = col[:-2] + '_2021_2022'\n",
        "joined_data.rename(columns=renamed_columns, inplace=True)\n"
      ]
    },
    {
      "attachments": {},
      "cell_type": "markdown",
      "metadata": {
        "id": "CV3-6OBi622_"
      },
      "source": [
        "#Exporting CSV for Visualizations"
      ]
    },
    {
      "cell_type": "code",
      "execution_count": null,
      "metadata": {
        "colab": {
          "base_uri": "https://localhost:8080/"
        },
        "id": "zbMY13XnJMju",
        "outputId": "29a1ac1a-5739-4ecc-f376-7570bb6becf9"
      },
      "outputs": [
        {
          "name": "stdout",
          "output_type": "stream",
          "text": [
            "Drive already mounted at /content/drive; to attempt to forcibly remount, call drive.mount(\"/content/drive\", force_remount=True).\n"
          ]
        }
      ],
      "source": [
        "# Create a copy of pandas_df\n",
        "pandas_df_with_predictions = joined_data.copy()\n",
        "\n",
        "# Add the predictions as new columns\n",
        "pandas_df_with_predictions['2023-2024 Predicted Points'] = pts_predictions\n",
        "\n",
        "# Set negative predictions to 0\n",
        "pandas_df_with_predictions.loc[pandas_df_with_predictions['2023-2024 Predicted Points'] < 0, '2023-2024 Predicted Points'] = 0\n",
        "\n",
        "#Reset index and add as column\n",
        "\n",
        "pandas_df_with_predictions = pandas_df_with_predictions.reset_index(drop = False)\n",
        "\n",
        "# Specify the path where you want to save the file\n",
        "from google.colab import drive\n",
        "drive.mount('/content/drive')\n",
        "file_path = '/content/drive/MyDrive/NBA Predicted Data.csv'\n",
        "# Save the DataFrame as a CSV file\n",
        "pandas_df_with_predictions.to_csv(file_path, encoding='utf-8', index=False)\n"
      ]
    },
    {
      "attachments": {},
      "cell_type": "markdown",
      "metadata": {
        "id": "7v-VCncpi4YY"
      },
      "source": [
        "## Create Visulizations"
      ]
    },
    {
      "cell_type": "code",
      "execution_count": null,
      "metadata": {
        "colab": {
          "base_uri": "https://localhost:8080/",
          "height": 491
        },
        "id": "5Em6DYsE7ZGX",
        "outputId": "28584db1-6d7c-4571-e77a-0f95c0ba972b"
      },
      "outputs": [
        {
          "data": {
            "image/png": "[encoded data removed]",
            "text/plain": [
              "<Figure size 640x480 with 1 Axes>"
            ]
          },
          "metadata": {},
          "output_type": "display_data"
        }
      ],
      "source": [
        "# Make a bar plot\n",
        "sns.barplot(x='Tm_2022_2023', y='PTS_2022_2023', data=pandas_df_with_predictions)\n",
        "plt.title('Bar Plot: Average Points by Team')\n",
        "plt.xticks(rotation=90)\n",
        "plt.show()\n"
      ]
    },
    {
      "cell_type": "code",
      "execution_count": null,
      "metadata": {
        "colab": {
          "base_uri": "https://localhost:8080/",
          "height": 472
        },
        "id": "gMKATbcq8MoB",
        "outputId": "5b7a1b1c-f9fb-4c0f-af0b-535d02657203"
      },
      "outputs": [
        {
          "data": {
            "image/png": "[encoded data removed]",
            "text/plain": [
              "<Figure size 640x480 with 1 Axes>"
            ]
          },
          "metadata": {},
          "output_type": "display_data"
        }
      ],
      "source": [
        "#Make a scatter plot\n",
        "sns.scatterplot(x='MP_2022_2023', y='PTS_2022_2023', data=pandas_df_with_predictions)\n",
        "plt.title('Scatter Plot: Minutes Played vs. Points')\n",
        "plt.show()\n"
      ]
    },
    {
      "cell_type": "code",
      "execution_count": null,
      "metadata": {
        "colab": {
          "base_uri": "https://localhost:8080/",
          "height": 629
        },
        "id": "ROlv5E3l8oCH",
        "outputId": "0a61a738-b0f8-42ad-cca0-2ee39b71cfa6"
      },
      "outputs": [
        {
          "data": {
            "image/png": "[encoded data removed]",
            "text/plain": [
              "<Figure size 640x480 with 2 Axes>"
            ]
          },
          "metadata": {},
          "output_type": "display_data"
        }
      ],
      "source": [
        "# Make a Correlation Heat Map\n",
        "numeric_columns = ['Age_2022_2023', 'G_2022_2023', 'GS_2022_2023', 'MP_2022_2023', 'FG_2022_2023', 'FGA_2022_2023', 'PTS_2022_2023', '2023-2024 Predicted Points']\n",
        "numeric_data = pandas_df_with_predictions[numeric_columns]\n",
        "corr_matrix = numeric_data.corr()\n",
        "\n",
        "sns.heatmap(corr_matrix, annot=True, cmap='coolwarm')\n",
        "plt.title('Correlation Heatmap')\n",
        "plt.show()\n"
      ]
    }
  ],
  "metadata": {
    "colab": {
      "include_colab_link": true,
      "provenance": []
    },
    "kernelspec": {
      "display_name": "Python 3",
      "name": "python3"
    },
    "language_info": {
      "name": "python"
    }
  },
  "nbformat": 4,
  "nbformat_minor": 0
}
